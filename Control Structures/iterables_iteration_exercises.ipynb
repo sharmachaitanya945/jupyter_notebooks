{
  "cells": [
    {
      "cell_type": "code",
      "execution_count": null,
      "id": "2434a3ba",
      "metadata": {
        "id": "2434a3ba"
      },
      "outputs": [],
      "source": [
        "# 1️⃣ Iterating Through a List 📝\n",
        "\n",
        "# Define a list of fruits\n",
        "fruits = [\"apple\", \"banana\", \"cherry\", \"date\"]\n",
        "\n",
        "# Loop through each element in the list\n",
        "for fruit in _____:  # Fill in the list variable\n",
        "\n",
        "    # Print the current fruit\n",
        "    print(fruit)\n",
        "\n"
      ]
    },
    {
      "cell_type": "code",
      "execution_count": null,
      "id": "3d0e5857",
      "metadata": {
        "id": "3d0e5857"
      },
      "outputs": [],
      "source": [
        "# 2️⃣ Using Iterators 🔄\n",
        "\n",
        "# Create an iterator from a list of numbers\n",
        "numbers = iter([10, 20, 30, 40])  # Convert list to iterator\n",
        "\n",
        "# Retrieve and print the first element using next()\n",
        "print(next(numbers))  # Output first element\n",
        "\n",
        "# Retrieve and print the second element (Fill in the blank)\n",
        "print(_____)  # Get the next element\n",
        "\n",
        "# Retrieve and print the third element using next()\n",
        "print(next(numbers))  # Output third element\n",
        "\n"
      ]
    },
    {
      "cell_type": "code",
      "execution_count": null,
      "id": "0c0f7ea9",
      "metadata": {
        "id": "0c0f7ea9"
      },
      "outputs": [],
      "source": [
        "# 3️⃣ Working with Sets 🔢\n",
        "\n",
        "# Define a set of unique numbers\n",
        "unique_numbers = {1, 2, 3, 4, 5}\n",
        "\n",
        "# Loop through each element in the set\n",
        "for num in _____:  # Iterate through the set\n",
        "\n",
        "    # Print the current number\n",
        "    print(num)\n",
        "\n"
      ]
    },
    {
      "cell_type": "code",
      "execution_count": null,
      "id": "637fea5e",
      "metadata": {
        "id": "637fea5e"
      },
      "outputs": [],
      "source": [
        "# 4️⃣ String Iteration 🔠\n",
        "\n",
        "# Define a string\n",
        "word = \"Python\"\n",
        "\n",
        "# Loop through each character in the string\n",
        "for char in _____:  # Iterate through the string\n",
        "\n",
        "    # Print the current character\n",
        "    print(char)\n"
      ]
    },
    {
      "cell_type": "code",
      "execution_count": null,
      "id": "3979bd7e",
      "metadata": {
        "id": "3979bd7e"
      },
      "outputs": [],
      "source": [
        "# 5️⃣ Tuple Iteration 🎭\n",
        "actors = (\"Leonardo\", \"Brad\", \"Tom\")\n",
        "\n",
        "for actor in _____:  # Iterate through the tuple\n",
        "    print(actor)\n"
      ]
    },
    {
      "cell_type": "code",
      "execution_count": null,
      "id": "df89eec6",
      "metadata": {
        "id": "df89eec6"
      },
      "outputs": [],
      "source": [
        "# 6️⃣ Dictionary Iteration 📖\n",
        "\n",
        "# Define a dictionary with student names as keys and scores as values\n",
        "student_scores = {\"Alice\": 85, \"Bob\": 92, \"Charlie\": 78}\n",
        "\n",
        "# Loop through each key-value pair in the dictionary\n",
        "for name, score in _____:  # Iterate through dictionary items\n",
        "\n",
        "    # Print the student's name along with their score\n",
        "    print(f\"{name} scored {score}\")\n",
        "\n"
      ]
    },
    {
      "cell_type": "code",
      "execution_count": null,
      "id": "5bdbc0b4",
      "metadata": {
        "id": "5bdbc0b4"
      },
      "outputs": [],
      "source": [
        "# 7️⃣ Using Ranges 🔢\n",
        "\n",
        "# Loop through a sequence of numbers using the range function\n",
        "for num in range(_____):  # Fill in a range (e.g., 1 to 10)\n",
        "\n",
        "    # Print the current number\n",
        "    print(num)\n"
      ]
    },
    {
      "cell_type": "code",
      "execution_count": null,
      "id": "5b036bb0",
      "metadata": {
        "id": "5b036bb0"
      },
      "outputs": [],
      "source": [
        "# 8️⃣ Get Iteration Number with Enumerate 🔢🔍\n",
        "\n",
        "# Define a list of programming languages\n",
        "languages = [\"Python\", \"Java\", \"C++\", \"JavaScript\"]\n",
        "\n",
        "# Loop through each element in the list while also keeping track of its index\n",
        "for index, language in _____:  # Use enumerate to get index and value\n",
        "\n",
        "    # Print the index and corresponding language\n",
        "    print(f\"{index}: {language}\")\n",
        "\n"
      ]
    },
    {
      "cell_type": "code",
      "execution_count": null,
      "id": "87120fc0",
      "metadata": {
        "id": "87120fc0"
      },
      "outputs": [],
      "source": [
        "# 9️⃣ Nested Loops 🎲\n",
        "\n",
        "# Outer loop runs from 1 to 3 (inclusive)\n",
        "for i in range(1, 4):\n",
        "\n",
        "    # Inner loop runs within the specified range\n",
        "    for j in range(_____):  # Complete the inner loop range\n",
        "\n",
        "        # Print the current values of i and j\n",
        "        print(f\"i={i}, j={j}\")\n"
      ]
    }
  ],
  "metadata": {
    "colab": {
      "provenance": []
    }
  },
  "nbformat": 4,
  "nbformat_minor": 5
}