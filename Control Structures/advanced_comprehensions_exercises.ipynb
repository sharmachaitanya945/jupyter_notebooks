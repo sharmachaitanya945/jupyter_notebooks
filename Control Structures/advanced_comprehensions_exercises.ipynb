{
  "cells": [
    {
      "cell_type": "code",
      "execution_count": null,
      "id": "bccf2ecc",
      "metadata": {
        "id": "bccf2ecc"
      },
      "outputs": [],
      "source": [
        "# 1️⃣ Creating a Matrix 🔢\n",
        "# Create a 3x3 matrix using list comprehension\n",
        "\n",
        "# Using list comprehension to create a 3x3 matrix filled with zeros\n",
        "matrix = [[0 for col in range(3)] for row in range(3)]\n",
        "\n",
        "# Printing the matrix\n",
        "print(matrix)\n",
        "\n",
        "# Expected Output:\n",
        "# [\n",
        "#   [0, 0, 0],\n",
        "#   [0, 0, 0],\n",
        "#   [0, 0, 0]\n",
        "# ]\n",
        "\n",
        "# Test case to validate matrix creation\n",
        "expected_output = [\n",
        "    [0, 0, 0],\n",
        "    [0, 0, 0],\n",
        "    [0, 0, 0]\n",
        "]\n",
        "\n",
        "# Check if the generated matrix matches the expected output\n",
        "assert matrix == expected_output, \"Test Failed: The matrix does not match the expected output.\"\n",
        "\n",
        "print(\"Test Passed: The generated matrix is correct ✅\")\n",
        "\n"
      ]
    },
    {
      "cell_type": "code",
      "execution_count": null,
      "id": "107f67e8",
      "metadata": {
        "id": "107f67e8"
      },
      "outputs": [],
      "source": [
        "# 2️⃣ Filtering a Nested List 🎯\n",
        "# Remove all negative numbers from a nested list using list comprehension\n",
        "\n",
        "nested_list = [[-3, 2, -1], [5, -6, 7], [-8, 9, 10]]\n",
        "\n",
        "# Using nested list comprehension to filter out negative numbers\n",
        "filtered_list = [[num for num in sublist if num >= 0] for sublist in nested_list]\n",
        "\n",
        "# Printing the filtered list\n",
        "print(filtered_list)\n",
        "\n",
        "# Expected Output:\n",
        "# [\n",
        "#   [2],\n",
        "#   [5, 7],\n",
        "#   [9, 10]\n",
        "# ]\n",
        "\n",
        "# Test case to validate the filtering process\n",
        "expected_output = [\n",
        "    [2],\n",
        "    [5, 7],\n",
        "    [9, 10]\n",
        "]\n",
        "\n",
        "# Check if the filtered list matches the expected output\n",
        "assert filtered_list == expected_output, \"Test Failed: The filtered list does not match the expected output.\"\n",
        "\n",
        "print(\"Test Passed: The filtered list is correct ✅\")\n",
        "\n"
      ]
    },
    {
      "cell_type": "code",
      "execution_count": null,
      "id": "c5bb6fa7",
      "metadata": {
        "id": "c5bb6fa7"
      },
      "outputs": [],
      "source": [
        "# 3️⃣ Flattening Nested Sub-Lists 📏\n",
        "# Convert a nested list into a single flattened list using list comprehension\n",
        "\n",
        "nested_list = [[1, 2, 3], [4, 5, 6], [7, 8, 9]]\n",
        "\n",
        "# Using list comprehension to flatten the nested list\n",
        "flattened_list = [num for sublist in nested_list for num in sublist]\n",
        "\n",
        "# Printing the flattened list\n",
        "print(flattened_list)\n",
        "\n",
        "# Expected Output:\n",
        "# [1, 2, 3, 4, 5, 6, 7, 8, 9]\n",
        "\n",
        "# Test case to validate the flattening process\n",
        "expected_output = [1, 2, 3, 4, 5, 6, 7, 8, 9]\n",
        "\n",
        "# Check if the flattened list matches the expected output\n",
        "assert flattened_list == expected_output, \"Test Failed: The flattened list does not match the expected output.\"\n",
        "\n",
        "print(\"Test Passed: The flattened list is correct ✅\")\n",
        "\n"
      ]
    },
    {
      "cell_type": "code",
      "execution_count": null,
      "id": "3bfc77ff",
      "metadata": {
        "id": "3bfc77ff"
      },
      "outputs": [],
      "source": [
        "# 4️⃣ Manipulating Matrix Values 🔄\n",
        "# Multiply all elements in a 3x3 matrix by 2 using list comprehension\n",
        "\n",
        "matrix = [[1, 2, 3], [4, 5, 6], [7, 8, 9]]\n",
        "\n",
        "# Using list comprehension to multiply each element by 2\n",
        "doubled_matrix = [[num * 2 for num in row] for row in matrix]\n",
        "\n",
        "# Printing the modified matrix\n",
        "print(doubled_matrix)\n",
        "\n",
        "# Expected Output:\n",
        "# [[2, 4, 6], [8, 10, 12], [14, 16, 18]]\n",
        "\n",
        "# Test case to validate the multiplication process\n",
        "expected_output = [[2, 4, 6], [8, 10, 12], [14, 16, 18]]\n",
        "\n",
        "# Check if the doubled matrix matches the expected output\n",
        "assert doubled_matrix == expected_output, \"Test Failed: The doubled matrix does not match the expected output.\"\n",
        "\n",
        "print(\"Test Passed: The matrix multiplication is correct ✅\")\n",
        "\n"
      ]
    }
  ],
  "metadata": {
    "colab": {
      "provenance": []
    }
  },
  "nbformat": 4,
  "nbformat_minor": 5
}