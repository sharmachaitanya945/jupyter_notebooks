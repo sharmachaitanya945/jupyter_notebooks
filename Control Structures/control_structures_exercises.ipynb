{
  "cells": [
    {
      "cell_type": "markdown",
      "id": "yOGLaXLJX2gW",
      "metadata": {
        "id": "yOGLaXLJX2gW"
      },
      "source": [
        "***For if elif Statements ***"
      ]
    },
    {
      "cell_type": "code",
      "execution_count": null,
      "id": "378f01cb",
      "metadata": {
        "colab": {
          "base_uri": "https://localhost:8080/"
        },
        "id": "378f01cb",
        "outputId": "e43d4fa2-cfac-48c1-f60c-8b739e61a6ea"
      },
      "outputs": [
        {
          "name": "stdout",
          "output_type": "stream",
          "text": [
            "Enter your age: 30\n",
            "Ticket price: $20\n"
          ]
        }
      ],
      "source": [
        "# 1️⃣ Movie Ticket System 🎬\n",
        "age = int(input(\"Enter your age: \"))\n",
        "\n",
        "if age < 5:\n",
        "    print(\"Ticket price: __$5___\")  # Fill in the price\n",
        "elif 5 <= age <= 12:\n",
        "    print(\"Ticket price: $10\")  # Fill in the price\n",
        "elif 12 < age <=18:  # Complete the condition\n",
        "    print(\"Ticket price: $12\")\n",
        "else:\n",
        "    print(\"Ticket price: $20\")  # Fill in the price\n"
      ]
    },
    {
      "cell_type": "code",
      "execution_count": null,
      "id": "b2b56a6d",
      "metadata": {
        "colab": {
          "base_uri": "https://localhost:8080/"
        },
        "id": "b2b56a6d",
        "outputId": "8d966cae-2645-4b02-8e8d-1567c3d6cb69"
      },
      "outputs": [
        {
          "name": "stdout",
          "output_type": "stream",
          "text": [
            "Enter: rock,paper, scissorsscissors\n",
            "It's a tie!\n",
            "computer choice scissors\n"
          ]
        }
      ],
      "source": [
        "# 2️⃣ Rock, Paper, Scissors ✊📄✂️\n",
        "import random\n",
        "\n",
        "options = [\"rock\", \"paper\", \"scissors\"]\n",
        "computer_choice = random.choice(options) # Pick a random choice from options\n",
        "\n",
        "user_choice = input(\"Enter: rock,paper, scissors\").lower()\n",
        "\n",
        "if user_choice == computer_choice:\n",
        "    print(\"It's a tie!\")\n",
        "elif (user_choice == \"rock\" and computer_choice == \"scissors\") or (user_choice == \"paper\" and computer_choice == \"rock\") or   (user_choice == \"scissors\" and computer_choice == \"paper\"):\n",
        "    print(\"You win!\")\n",
        "else:\n",
        "    print(\"You lost\")  # Fill in the losing message\n",
        "\n",
        "print(\"computer choice\", computer_choice)"
      ]
    },
    {
      "cell_type": "code",
      "execution_count": null,
      "id": "5c273cad",
      "metadata": {
        "colab": {
          "background_save": true,
          "base_uri": "https://localhost:8080/"
        },
        "id": "5c273cad",
        "outputId": "5e3a35f0-c2c8-45ae-b818-52c644a637ac"
      },
      "outputs": [
        {
          "name": "stdout",
          "output_type": "stream",
          "text": [
            "Too less!\n"
          ]
        }
      ],
      "source": [
        "# 3️⃣ Lucky Number Game 🍀\n",
        "import random\n",
        "\n",
        "lucky_number = random.uniform(1, 10)\n",
        "guess = None\n",
        "\n",
        "while guess != lucky_number:\n",
        "    guess = float(input(\"Guess a number between 1 and 10: \"))\n",
        "\n",
        "    if guess < lucky_number:\n",
        "        print(\"Too less!\")  # Fill in\n",
        "    elif guess > lucky_number:\n",
        "        print(\"Too large!\")  # Fill in\n",
        "    else:\n",
        "        print(\"Congratulations! You guessed it right! 🎉\")\n",
        "\n",
        "print(\"computers guess:\",lucky_number)"
      ]
    },
    {
      "cell_type": "code",
      "execution_count": null,
      "id": "5a1598ba",
      "metadata": {
        "id": "5a1598ba"
      },
      "outputs": [],
      "source": [
        "# 4️⃣ FizzBuzz 🔢\n",
        "for num in range(1, 51):  # Loop through numbers from 1 to 50\n",
        "    if num % 3 == 0 and num % 5 == 0:\n",
        "        # If the number is divisible by both 3 and 5, print \"FizzBuzz\"\n",
        "        print(\"_____\")  # Fill in: FizzBuzz\n",
        "    elif num % 3 == 0:\n",
        "        # If the number is divisible by 3 (but not 5), print \"Fizz\"\n",
        "        print(\"_____\")  # Fill in: Fizz\n",
        "    elif num % 5 == 0:\n",
        "        # If the number is divisible by 5 (but not 3), print \"Buzz\"\n",
        "        print(\"_____\")  # Fill in: Buzz\n",
        "    else:\n",
        "        # If the number is not divisible by 3 or 5, print the number itself\n",
        "        print(num)"
      ]
    },
    {
      "cell_type": "code",
      "execution_count": null,
      "id": "8e7a8c27",
      "metadata": {
        "id": "8e7a8c27"
      },
      "outputs": [],
      "source": [
        "# 5️⃣ Reverse a String Without Slicing 🔄\n",
        "word = input(\"Enter a word: \")  # Get input from the user\n",
        "reversed_word = \"\"  # Initialize an empty string to store the reversed word\n",
        "\n",
        "# We want to loop through the word in reverse order\n",
        "# The `reversed()` function allows us to iterate backwards over a sequence (like a string)\n",
        "# `word` is the original string, and `reversed(word)` gives us an iterator to go through it backwards\n",
        "for char in reversed(word):\n",
        "    reversed_word += char  # Add each character to the `reversed_word` string\n",
        "\n",
        "print(\"Reversed word:\", reversed_word)  # Print the final reversed word"
      ]
    },
    {
      "cell_type": "code",
      "execution_count": null,
      "id": "3ad293c7",
      "metadata": {
        "id": "3ad293c7"
      },
      "outputs": [],
      "source": [
        "# 6️⃣ Safe Division Calculator ➗\n",
        "\n",
        "# Using a try-except block to handle errors and ensure safe division\n",
        "try:\n",
        "    # Prompt the user to enter the numerator and convert it to a floating-point number\n",
        "    num1 = float(input(\"Enter the numerator: \"))\n",
        "\n",
        "    # Prompt the user to enter the denominator and convert it to a floating-point number\n",
        "    num2 = float(input(\"Enter the denominator: \"))\n",
        "\n",
        "    # Perform the division and store the result in the variable 'result'\n",
        "    result = _____  # Perform the division\n",
        "\n",
        "    # Print the result of the division\n",
        "    print(\"Result:\", result)\n",
        "\n",
        "# Handle the case when the user tries to divide by zero\n",
        "except ZeroDivisionError:\n",
        "    print(\"Error! You cannot divide by _____!\")  # Fill in\n",
        "\n",
        "# Handle the case when the user enters a non-numeric value\n",
        "except ValueError:\n",
        "    print(\"Invalid input! Please enter a _____ number.\")  # Fill in\n"
      ]
    },
    {
      "cell_type": "code",
      "execution_count": null,
      "id": "ddaf2baf",
      "metadata": {
        "id": "ddaf2baf"
      },
      "outputs": [],
      "source": [
        "# 7️⃣ ATM PIN Entry (Max 3 Tries) 💳\n",
        "\n",
        "# Define the correct PIN\n",
        "correct_pin = \"1234\"\n",
        "\n",
        "# Set the maximum number of attempts\n",
        "attempts = 3\n",
        "\n",
        "# Loop until the user runs out of attempts\n",
        "while attempts > 0:\n",
        "    # Prompt the user to enter a 4-digit PIN\n",
        "    entered_pin = input(\"Enter your 4-digit PIN: \")\n",
        "\n",
        "    # Check if the entered PIN matches the correct PIN\n",
        "    if entered_pin == correct_pin:\n",
        "        print(\"Access granted! ✅\")  # Successful login\n",
        "        break  # Exit the loop\n",
        "\n",
        "    else:\n",
        "        # Reduce the number of remaining attempts\n",
        "        attempts -= 1\n",
        "\n",
        "        # Display an error message with the remaining attempts\n",
        "        print(\"Incorrect PIN! You have\", _____, \"attempts left.\")  # Fill in\n",
        "\n",
        "# If the user has used all attempts, lock the account\n",
        "if attempts == 0:\n",
        "    print(\"Too many incorrect attempts. Your account is locked. ❌\")\n",
        "\n"
      ]
    },
    {
      "cell_type": "code",
      "execution_count": null,
      "id": "e4708e12",
      "metadata": {
        "id": "e4708e12"
      },
      "outputs": [],
      "source": [
        "# 8️⃣ Pattern Printing (Stars & Numbers) ⭐\n",
        "\n",
        "# Define the number of rows for the pattern\n",
        "rows = 5\n",
        "\n",
        "# Outer loop controls the number of rows\n",
        "for i in range(1, rows + 1):\n",
        "\n",
        "    # Inner loop controls the number of elements in each row\n",
        "    for j in range(_____):  # Fill in the range\n",
        "\n",
        "        # Print \"*\" with a space (Modify this line to print numbers instead)\n",
        "        print(\"*\", end=\" \")\n",
        "\n",
        "    # Move to the next line after printing each row\n",
        "    print()\n",
        "\n"
      ]
    }
  ],
  "metadata": {
    "colab": {
      "provenance": []
    },
    "kernelspec": {
      "display_name": "Python 3",
      "name": "python3"
    },
    "language_info": {
      "name": "python"
    }
  },
  "nbformat": 4,
  "nbformat_minor": 5
}