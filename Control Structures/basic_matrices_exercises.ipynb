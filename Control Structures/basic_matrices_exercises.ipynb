{
  "cells": [
    {
      "cell_type": "code",
      "execution_count": null,
      "id": "f54aa9d9",
      "metadata": {
        "id": "f54aa9d9"
      },
      "outputs": [],
      "source": [
        "# 1️⃣ Creating a Matrix 🔢\n",
        "# Create a 3x3 matrix using nested loops\n",
        "\n",
        "rows, cols = 3, 3  # Define the number of rows and columns\n",
        "matrix = []  # Initialize an empty list to store the matrix\n",
        "\n",
        "# Loop through each row\n",
        "for i in range(rows):\n",
        "    row = []  # Create an empty list for the current row\n",
        "\n",
        "    # Loop through each column in the row\n",
        "    for j in range(cols):\n",
        "        row.append(_____)  # Fill in the value (e.g., 0)\n",
        "\n",
        "    # Append the row to the matrix\n",
        "    matrix.append(row)\n",
        "\n",
        "# Print the 3x3 matrix\n",
        "print(matrix)  # Expected output: [[0, 0, 0], [0, 0, 0], [0, 0, 0]]\n",
        "\n"
      ]
    },
    {
      "cell_type": "code",
      "execution_count": null,
      "id": "e7ee045d",
      "metadata": {
        "id": "e7ee045d"
      },
      "outputs": [],
      "source": [
        "# 2️⃣ Filtering a Nested List 🎯\n",
        "# Remove all negative numbers from a nested list using loops\n",
        "\n",
        "nested_list = [[-3, 2, -1], [5, -6, 7], [-8, 9, 10]]  # Define a nested list with negative numbers\n",
        "filtered_list = []  # Initialize an empty list to store filtered sublists\n",
        "\n",
        "# Iterate through each sublist in the nested list\n",
        "for sublist in nested_list:\n",
        "    new_sublist = []  # Create an empty list for storing positive numbers\n",
        "\n",
        "    # Iterate through each number in the sublist\n",
        "    for num in sublist:\n",
        "        if _____:  # Condition to filter out negative numbers\n",
        "            new_sublist.append(num)  # Append the number if it meets the condition\n",
        "\n",
        "    # Append the filtered sublist to the main list\n",
        "    filtered_list.append(new_sublist)\n",
        "\n",
        "# Print the filtered list without negative numbers\n",
        "print(filtered_list)  # Expected output: [[2], [5, 7], [9, 10]]\n"
      ]
    },
    {
      "cell_type": "code",
      "execution_count": null,
      "id": "f0e1547e",
      "metadata": {
        "id": "f0e1547e"
      },
      "outputs": [],
      "source": [
        "# 3️⃣ Flattening Nested Sub-Lists 📏\n",
        "# Convert a nested list into a single flattened list using loops\n",
        "\n",
        "nested_list = [[1, 2, 3], [4, 5, 6], [7, 8, 9]]  # Define a nested list\n",
        "flattened_list = []  # Initialize an empty list to store flattened elements\n",
        "\n",
        "# Iterate through each sublist in the nested list\n",
        "for sublist in nested_list:\n",
        "    # Iterate through each number in the sublist\n",
        "    for num in sublist:\n",
        "        flattened_list.append(_____)  # Append the number to the flattened list\n",
        "\n",
        "# Print the flattened list\n",
        "print(flattened_list)  # Expected output: [1, 2, 3, 4, 5, 6, 7, 8, 9]\n",
        "\n"
      ]
    },
    {
      "cell_type": "code",
      "execution_count": null,
      "id": "5cf12dfe",
      "metadata": {
        "id": "5cf12dfe"
      },
      "outputs": [],
      "source": [
        "# 4️⃣ Manipulating Matrix Values 🔄\n",
        "# Multiply all elements in a 3x3 matrix by 2 using loops\n",
        "\n",
        "matrix = [[1, 2, 3], [4, 5, 6], [7, 8, 9]]  # Define a 3x3 matrix\n",
        "doubled_matrix = []  # Initialize an empty list to store the modified matrix\n",
        "\n",
        "# Iterate through each row in the matrix\n",
        "for row in matrix:\n",
        "    new_row = []  # Create an empty list to store the modified row\n",
        "\n",
        "    # Iterate through each element in the row\n",
        "    for num in row:\n",
        "        new_row.append(_____)  # Multiply each element by 2 and append it to new_row\n",
        "\n",
        "    # Append the modified row to the new matrix\n",
        "    doubled_matrix.append(new_row)\n",
        "\n",
        "# Print the updated matrix with all elements doubled\n",
        "print(doubled_matrix)  # Expected output: [[2, 4, 6], [8, 10, 12], [14, 16, 18]]\n",
        "\n"
      ]
    },
    {
      "cell_type": "code",
      "execution_count": null,
      "id": "eb8ded7e",
      "metadata": {
        "id": "eb8ded7e"
      },
      "outputs": [],
      "source": [
        "# 5️⃣ Homework: Create an Alphabet Using an N x N Matrix 🏠📚\n",
        "# Task: Write a function to generate an uppercase letter using '*'\n",
        "# in an n x n matrix (e.g., letter 'S' with a height of n).\n",
        "# You can use two numbers or any number of your choice in your matrix but they should be making the pattern of S\n",
        "\"\"\" an example for a 8 row 8 column 8 x 8 matrix is this output for S\n",
        "0 1 1 1 1 1 1 0\n",
        "1 0 0 0 0 0 0 0\n",
        "1 0 0 0 0 0 0 0\n",
        "0 1 1 1 1 1 1 0\n",
        "0 0 0 0 0 0 0 1\n",
        "0 0 0 0 0 0 0 1\n",
        "0 1 1 1 1 1 1 0 \"\"\"\n",
        "\n",
        "def create_alphabet(n):\n",
        "    # Implement the function using loops\n",
        "    pass\n",
        "\n",
        "# Test cases:\n",
        "# create_alphabet(5) should print an 'A' pattern using '*'\n",
        "\n",
        "# Example Output for 'A':\n",
        "#   *\n",
        "#  * *\n",
        "# *****\n",
        "# *   *\n",
        "# *   *\n",
        "\n",
        "# Write test cases below:\n",
        "# assert create_alphabet(5) == expected_output\n",
        "# assert create_alphabet(23)==expected_output\n",
        "# assert create_alphabet(14)==expected_output\n"
      ]
    },
    {
      "cell_type": "code",
      "source": [],
      "metadata": {
        "id": "uibPd_C66udF"
      },
      "id": "uibPd_C66udF",
      "execution_count": null,
      "outputs": []
    },
    {
      "cell_type": "markdown",
      "source": [
        "def create_alphabet(n):\n",
        "    \"\"\"Generate an 'S' pattern in an n x n matrix using 1s and 0s.\"\"\"\n",
        "    matrix = [[0] * n for _ in range(n)]  # Initialize an n x n matrix with 0s\n",
        "\n",
        "    # Fill the top row with 1s\n",
        "    for i in range(1, n - 1):\n",
        "        matrix[0][i] = 1\n",
        "\n",
        "    # Fill the middle row with 1s\n",
        "    mid = n // 2\n",
        "    for i in range(1, n - 1):\n",
        "        matrix[mid][i] = 1\n",
        "\n",
        "    # Fill the bottom row with 1s\n",
        "    for i in range(1, n - 1):\n",
        "        matrix[n - 1][i] = 1\n",
        "\n",
        "    # Fill the first column of the upper half\n",
        "    for i in range(1, mid):\n",
        "        matrix[i][0] = 1\n",
        "\n",
        "    # Fill the last column of the lower half\n",
        "    for i in range(mid + 1, n - 1):\n",
        "        matrix[i][n - 1] = 1\n",
        "\n",
        "    # Print the matrix in a readable format\n",
        "    for row in matrix:\n",
        "        print(\" \".join(map(str, row)))\n",
        "\n",
        "# Test the function\n",
        "create_alphabet(8)\n"
      ],
      "metadata": {
        "id": "Z4CHPvuO6vQj"
      },
      "id": "Z4CHPvuO6vQj"
    },
    {
      "cell_type": "code",
      "source": [],
      "metadata": {
        "id": "2uTxjznQ63Yq"
      },
      "id": "2uTxjznQ63Yq",
      "execution_count": null,
      "outputs": []
    }
  ],
  "metadata": {
    "colab": {
      "provenance": []
    },
    "language_info": {
      "name": "python"
    },
    "kernelspec": {
      "name": "python3",
      "display_name": "Python 3"
    }
  },
  "nbformat": 4,
  "nbformat_minor": 5
}