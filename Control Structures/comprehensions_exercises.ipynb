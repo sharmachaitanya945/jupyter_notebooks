{
  "cells": [
    {
      "cell_type": "code",
      "execution_count": null,
      "id": "2ac6e18b",
      "metadata": {
        "id": "2ac6e18b"
      },
      "outputs": [],
      "source": [
        "# 1️⃣ List Comprehension - Squares of Numbers 🔢\n",
        "\n",
        "# Define a list of numbers\n",
        "numbers = [1, 2, 3, 4, 5]\n",
        "\n",
        "# Use list comprehension to create a new list with squares of each number\n",
        "squares = [_____ for num in numbers]  # Fill in to get squares of numbers\n",
        "\n",
        "# Print the list of squared numbers\n",
        "print(squares)  # Expected output: [1, 4, 9, 16, 25]\n",
        "\n"
      ]
    },
    {
      "cell_type": "code",
      "execution_count": null,
      "id": "d2d1e2d5",
      "metadata": {
        "id": "d2d1e2d5"
      },
      "outputs": [],
      "source": [
        "# 2️⃣ List Comprehension - Even Numbers 🔄\n",
        "\n",
        "# Create a list of numbers from 1 to 20\n",
        "nums = list(range(1, 21))\n",
        "\n",
        "# Use list comprehension to filter out even numbers\n",
        "evens = [_____ for num in nums if _____]  # Extract only even numbers\n",
        "\n",
        "# Print the list of even numbers\n",
        "print(evens)  # Expected output: [2, 4, 6, 8, 10, 12, 14, 16, 18, 20]\n",
        "\n"
      ]
    },
    {
      "cell_type": "code",
      "execution_count": null,
      "id": "b1be0b4e",
      "metadata": {
        "id": "b1be0b4e"
      },
      "outputs": [],
      "source": [
        "# 3️⃣ Dictionary Comprehension - Square Mapping 📖\n",
        "\n",
        "# Define a list of numbers\n",
        "numbers = [1, 2, 3, 4, 5]\n",
        "\n",
        "# Use dictionary comprehension to create key-value pairs where keys are numbers and values are their squares\n",
        "square_dict = {num: _____ for num in numbers}  # Fill in to create key-value pairs\n",
        "\n",
        "# Print the dictionary mapping numbers to their squares\n",
        "print(square_dict)  # Expected output: {1: 1, 2: 4, 3: 9, 4: 16, 5: 25}\n"
      ]
    },
    {
      "cell_type": "code",
      "execution_count": null,
      "id": "d3068c92",
      "metadata": {
        "id": "d3068c92"
      },
      "outputs": [],
      "source": [
        "# 4️⃣ List Comprehension - Uppercase Strings 🔠\n",
        "\n",
        "# Define a list of lowercase words\n",
        "words = [\"apple\", \"banana\", \"cherry\"]\n",
        "\n",
        "# Use list comprehension to convert all words to uppercase\n",
        "uppercase_words = [_____ for word in words]  # Convert all words to uppercase\n",
        "\n",
        "# Print the list of uppercase words\n",
        "print(uppercase_words)  # Expected output: ['APPLE', 'BANANA', 'CHERRY']\n",
        "\n"
      ]
    },
    {
      "cell_type": "code",
      "execution_count": null,
      "id": "51585c01",
      "metadata": {
        "id": "51585c01"
      },
      "outputs": [],
      "source": [
        "# 5️⃣ Dictionary Comprehension - Length Mapping 📏\n",
        "\n",
        "# Define a list of words\n",
        "words = [\"Python\", \"Java\", \"C++\", \"JavaScript\"]\n",
        "\n",
        "# Use dictionary comprehension to create key-value pairs where keys are words and values are their lengths\n",
        "length_dict = {word: _____ for word in words}  # Map words to their lengths\n",
        "\n",
        "# Print the dictionary mapping words to their lengths\n",
        "print(length_dict)  # Expected output: {'Python': 6, 'Java': 4, 'C++': 3, 'JavaScript': 10}\n",
        "\n"
      ]
    },
    {
      "cell_type": "code",
      "execution_count": null,
      "id": "69c5f74f",
      "metadata": {
        "id": "69c5f74f"
      },
      "outputs": [],
      "source": [
        "# 6️⃣ Nested List Comprehension - Multiplication Table 🔢\n",
        "\n",
        "# Use nested list comprehension to generate a multiplication table\n",
        "multiplication_table = [[_____ for j in range(1, 11)] for i in range(1, 6)]  # Fill in\n",
        "\n",
        "# Loop through each row and print the multiplication table\n",
        "for row in multiplication_table:\n",
        "    print(row)\n",
        "\n"
      ]
    }
  ],
  "metadata": {
    "colab": {
      "provenance": []
    }
  },
  "nbformat": 4,
  "nbformat_minor": 5
}