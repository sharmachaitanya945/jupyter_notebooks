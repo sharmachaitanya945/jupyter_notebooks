{
 "cells": [
  {
   "cell_type": "markdown",
   "id": "877be6b5",
   "metadata": {},
   "source": [
    "# Pandas and SQL\n",
    "\n",
    "Understanding how to use Pandas with SQL for data analysis."
   ]
  },
  {
   "cell_type": "markdown",
   "id": "882cb42e",
   "metadata": {},
   "source": [
    "\n",
    "## Introduction\n",
    "Pandas provides powerful tools to interact with SQL databases. We can use the `sqlite3` library in Python to connect and query SQLite databases, \n",
    "or use SQLAlchemy for more robust SQL operations across various database engines.\n",
    "\n",
    "In this notebook, we will cover:\n",
    "- Connecting Pandas with SQL databases.\n",
    "- Reading and writing data between Pandas and SQL.\n",
    "- Executing SQL queries using Pandas.\n",
    "- Performing SQL-like operations in Pandas.\n",
    "\n",
    "Let's begin!\n"
   ]
  },
  {
   "cell_type": "code",
   "execution_count": null,
   "id": "2e1d4b5a",
   "metadata": {},
   "outputs": [],
   "source": [
    "\n",
    "import pandas as pd\n",
    "import sqlite3\n",
    "\n",
    "# Create an in-memory SQLite database\n",
    "conn = sqlite3.connect(':memory:')\n",
    "\n",
    "# Sample data\n",
    "data = {'id': [1, 2, 3], 'name': ['Alice', 'Bob', 'Charlie'], 'age': [25, 30, 35]}\n",
    "\n",
    "# Create DataFrame\n",
    "df = pd.DataFrame(data)\n",
    "\n",
    "# Write DataFrame to SQL table\n",
    "df.to_sql('people', conn, index=False, if_exists='replace')\n",
    "\n",
    "# Read from SQL table into a new DataFrame\n",
    "df_sql = pd.read_sql('SELECT * FROM people', conn)\n",
    "df_sql\n"
   ]
  },
  {
   "cell_type": "markdown",
   "id": "ed5c32a4",
   "metadata": {},
   "source": [
    "\n",
    "## SQL Operations in Pandas\n",
    "\n",
    "Pandas allows us to perform SQL-like operations using built-in methods:\n",
    "\n",
    "- `query()`: Filtering data using SQL-like expressions.\n",
    "- `merge()`: Performing SQL-style JOIN operations.\n",
    "- `groupby()`: Aggregating data like SQL GROUP BY.\n"
   ]
  },
  {
   "cell_type": "code",
   "execution_count": null,
   "id": "e9bdcd8c",
   "metadata": {},
   "outputs": [],
   "source": [
    "\n",
    "# Using query() to filter rows\n",
    "df_filtered = df.query('age > 25')\n",
    "\n",
    "# Using merge() to simulate a SQL JOIN\n",
    "extra_data = pd.DataFrame({'id': [1, 2, 3], 'salary': [50000, 60000, 70000]})\n",
    "df_merged = df.merge(extra_data, on='id', how='left')\n",
    "\n",
    "# Using groupby() to aggregate data\n",
    "df_grouped = df.groupby('age').count()\n",
    "\n",
    "df_filtered, df_merged, df_grouped\n"
   ]
  },
  {
   "cell_type": "markdown",
   "id": "bfaba900",
   "metadata": {},
   "source": [
    "\n",
    "## Exercises\n",
    "\n",
    "1. Create a new table in the SQLite database and insert sample employee records.\n",
    "2. Write an SQL query to select employees older than 28.\n",
    "3. Perform a SQL-style join between two tables using Pandas.\n",
    "4. Use `groupby()` to find the average salary by age.\n",
    "\n",
    "Try implementing these exercises in the code cells below!\n"
   ]
  },
  {
   "cell_type": "code",
   "execution_count": null,
   "id": "be60739f",
   "metadata": {},
   "outputs": [],
   "source": [
    "# Write your code here"
   ]
  }
 ],
 "metadata": {},
 "nbformat": 4,
 "nbformat_minor": 5
}