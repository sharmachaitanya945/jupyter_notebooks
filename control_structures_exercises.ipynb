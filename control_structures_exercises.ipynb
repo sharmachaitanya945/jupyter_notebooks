{
 "cells": [
  {
   "cell_type": "code",
   "execution_count": null,
   "id": "378f01cb",
   "metadata": {},
   "outputs": [],
   "source": [
    "# 1️⃣ Movie Ticket System 🎬\n",
    "age = int(input(\"Enter your age: \"))\n",
    "\n",
    "if age < 5:\n",
    "    print(\"Ticket price: _____\")  # Fill in the price\n",
    "elif 5 <= age <= 12:\n",
    "    print(\"Ticket price: _____\")  # Fill in the price\n",
    "elif _____:  # Complete the condition\n",
    "    print(\"Ticket price: $12\")\n",
    "else:\n",
    "    print(\"Ticket price: _____\")  # Fill in the price\n"
   ]
  },
  {
   "cell_type": "code",
   "execution_count": null,
   "id": "b2b56a6d",
   "metadata": {},
   "outputs": [],
   "source": [
    "# 2️⃣ Rock, Paper, Scissors ✊📄✂️\n",
    "import random\n",
    "\n",
    "options = [\"rock\", \"paper\", \"scissors\"]\n",
    "computer_choice = _____  # Pick a random choice from options\n",
    "\n",
    "user_choice = input(\"Enter rock, paper, or scissors: \").lower()\n",
    "\n",
    "if user_choice == computer_choice:\n",
    "    print(\"It's a tie!\")\n",
    "elif (user_choice == \"rock\" and computer_choice == _____) or      (user_choice == \"paper\" and computer_choice == \"rock\") or      (user_choice == \"scissors\" and computer_choice == \"paper\"):\n",
    "    print(\"You win!\")\n",
    "else:\n",
    "    print(\"_____\")  # Fill in the losing message\n"
   ]
  },
  {
   "cell_type": "code",
   "execution_count": null,
   "id": "5c273cad",
   "metadata": {},
   "outputs": [],
   "source": [
    "# 3️⃣ Lucky Number Game 🍀\n",
    "import random\n",
    "\n",
    "lucky_number = random.randint(1, 10)\n",
    "guess = None\n",
    "\n",
    "while guess != lucky_number:\n",
    "    guess = int(input(\"Guess a number between 1 and 10: \"))\n",
    "    \n",
    "    if guess < lucky_number:\n",
    "        print(\"Too _____!\")  # Fill in\n",
    "    elif guess > lucky_number:\n",
    "        print(\"Too _____!\")  # Fill in\n",
    "    else:\n",
    "        print(\"Congratulations! You guessed it right! 🎉\")\n"
   ]
  },
  {
   "cell_type": "code",
   "execution_count": null,
   "id": "5a1598ba",
   "metadata": {},
   "outputs": [],
   "source": [
    "# 4️⃣ FizzBuzz 🔢\n",
    "for num in range(1, 51):\n",
    "    if num % 3 == 0 and num % 5 == 0:\n",
    "        print(\"_____\")  # Fill in FizzBuzz\n",
    "    elif num % 3 == 0:\n",
    "        print(\"_____\")  # Fill in Fizz\n",
    "    elif num % 5 == 0:\n",
    "        print(\"_____\")  # Fill in Buzz\n",
    "    else:\n",
    "        print(num)\n"
   ]
  },
  {
   "cell_type": "code",
   "execution_count": null,
   "id": "8e7a8c27",
   "metadata": {},
   "outputs": [],
   "source": [
    "# 5️⃣ Reverse a String Without Slicing 🔄\n",
    "word = input(\"Enter a word: \")\n",
    "reversed_word = \"\"\n",
    "\n",
    "for char in _____:  # Loop through the word in reverse order\n",
    "    reversed_word += char\n",
    "\n",
    "print(\"Reversed word:\", reversed_word)\n"
   ]
  },
  {
   "cell_type": "code",
   "execution_count": null,
   "id": "3ad293c7",
   "metadata": {},
   "outputs": [],
   "source": [
    "# 6️⃣ Safe Division Calculator ➗\n",
    "try:\n",
    "    num1 = float(input(\"Enter the numerator: \"))\n",
    "    num2 = float(input(\"Enter the denominator: \"))\n",
    "    \n",
    "    result = _____  # Perform the division\n",
    "    print(\"Result:\", result)\n",
    "\n",
    "except ZeroDivisionError:\n",
    "    print(\"Error! You cannot divide by _____!\")  # Fill in\n",
    "\n",
    "except ValueError:\n",
    "    print(\"Invalid input! Please enter a _____ number.\")  # Fill in\n"
   ]
  },
  {
   "cell_type": "code",
   "execution_count": null,
   "id": "ddaf2baf",
   "metadata": {},
   "outputs": [],
   "source": [
    "# 7️⃣ ATM PIN Entry (Max 3 Tries) 💳\n",
    "correct_pin = \"1234\"\n",
    "attempts = 3\n",
    "\n",
    "while attempts > 0:\n",
    "    entered_pin = input(\"Enter your 4-digit PIN: \")\n",
    "\n",
    "    if entered_pin == correct_pin:\n",
    "        print(\"Access granted! ✅\")\n",
    "        break\n",
    "    else:\n",
    "        attempts -= 1\n",
    "        print(\"Incorrect PIN! You have\", _____, \"attempts left.\")  # Fill in\n",
    "\n",
    "if attempts == 0:\n",
    "    print(\"Too many incorrect attempts. Your account is locked. ❌\")\n"
   ]
  },
  {
   "cell_type": "code",
   "execution_count": null,
   "id": "e4708e12",
   "metadata": {},
   "outputs": [],
   "source": [
    "# 8️⃣ Pattern Printing (Stars & Numbers) ⭐\n",
    "rows = 5\n",
    "for i in range(1, rows + 1):\n",
    "    for j in range(_____):  # Fill in the range\n",
    "        print(\"*\", end=\" \")  # Modify to print numbers instead\n",
    "    print()\n"
   ]
  }
 ],
 "metadata": {},
 "nbformat": 4,
 "nbformat_minor": 5
}
