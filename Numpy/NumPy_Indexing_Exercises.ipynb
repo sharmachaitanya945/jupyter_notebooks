{
 "cells": [
  {
   "cell_type": "markdown",
   "id": "2a7b8645",
   "metadata": {},
   "source": [
    "# NumPy Indexing - Learning Exercises"
   ]
  },
  {
   "cell_type": "markdown",
   "id": "888285a6",
   "metadata": {},
   "source": [
    "\n",
    "This notebook contains exercises on **NumPy Indexing**.  \n",
    "You'll learn about basic slicing, fancy indexing, and modifying array elements.  \n",
    "Fill in the missing parts to complete the exercises.\n"
   ]
  },
  {
   "cell_type": "markdown",
   "id": "fedb57c6",
   "metadata": {},
   "source": [
    "## Basic Indexing & Slicing"
   ]
  },
  {
   "cell_type": "code",
   "execution_count": null,
   "id": "e89ce86b",
   "metadata": {},
   "outputs": [],
   "source": [
    "\n",
    "import numpy as np\n",
    "\n",
    "# Create a sample array\n",
    "arr = np.array([10, 20, 30, 40, 50, 60, 70, 80, 90, 100])\n",
    "\n",
    "# Extract elements using slicing (fill in the missing parts)\n",
    "subset = arr[2:_____]\n",
    "\n",
    "print(\"Sliced Array:\", subset)\n"
   ]
  },
  {
   "cell_type": "markdown",
   "id": "fb7986ac",
   "metadata": {},
   "source": [
    "## Fancy Indexing (Integer & Boolean)"
   ]
  },
  {
   "cell_type": "code",
   "execution_count": null,
   "id": "e7ce8569",
   "metadata": {},
   "outputs": [],
   "source": [
    "\n",
    "# Create an array\n",
    "arr = np.array([5, 10, 15, 20, 25, 30, 35, 40])\n",
    "\n",
    "# Integer Indexing (fill in the missing index list)\n",
    "indices = [0, 2, ____]  \n",
    "selected_elements = arr[indices]\n",
    "\n",
    "print(\"Selected Elements:\", selected_elements)\n",
    "\n",
    "# Boolean Indexing (fill in the missing condition)\n",
    "mask = arr _____ 20\n",
    "filtered_elements = arr[mask]\n",
    "\n",
    "print(\"Filtered Elements:\", filtered_elements)\n"
   ]
  },
  {
   "cell_type": "markdown",
   "id": "9476728b",
   "metadata": {},
   "source": [
    "## Modifying Array Elements"
   ]
  },
  {
   "cell_type": "code",
   "execution_count": null,
   "id": "8d41011a",
   "metadata": {},
   "outputs": [],
   "source": [
    "\n",
    "# Create an array\n",
    "arr = np.array([1, 2, 3, 4, 5, 6, 7, 8, 9, 10])\n",
    "\n",
    "# Change elements at specific positions\n",
    "arr[2:5] = ____  # Replace with new values\n",
    "\n",
    "print(\"Modified Array:\", arr)\n"
   ]
  },
  {
   "cell_type": "markdown",
   "id": "6d036cb0",
   "metadata": {},
   "source": [
    "## Advanced Indexing Techniques"
   ]
  },
  {
   "cell_type": "code",
   "execution_count": null,
   "id": "acd9a85c",
   "metadata": {},
   "outputs": [],
   "source": [
    "\n",
    "# Create a 2D array\n",
    "matrix = np.array([\n",
    "    [10, 20, 30],\n",
    "    [40, 50, 60],\n",
    "    [70, 80, 90]\n",
    "])\n",
    "\n",
    "# Extract specific rows and columns (fill in the missing indices)\n",
    "sub_matrix = matrix[____, ____]\n",
    "\n",
    "print(\"Extracted Sub-Matrix:\n",
    "\", sub_matrix)\n"
   ]
  },
  {
   "cell_type": "markdown",
   "id": "c0fd8df5",
   "metadata": {},
   "source": [
    "## Homework: NumPy Indexing Challenge"
   ]
  },
  {
   "cell_type": "code",
   "execution_count": null,
   "id": "966962cf",
   "metadata": {},
   "outputs": [],
   "source": [
    "\n",
    "# Task: Create a 5x5 matrix with random values between 1 and 100.\n",
    "# Extract the diagonal elements and replace them with -1.\n",
    "\n",
    "import numpy as np\n",
    "\n",
    "# Step 1: Generate a 5x5 matrix\n",
    "matrix = np.random.randint(1, 101, size=(5, 5))\n",
    "print(\"Original Matrix:\n",
    "\", matrix)\n",
    "\n",
    "# Step 2: Extract diagonal elements\n",
    "diagonal_elements = np.diag(matrix)\n",
    "\n",
    "# Step 3: Replace diagonal elements with -1 (fill in the missing function)\n",
    "np.fill_diagonal(____, -1)\n",
    "\n",
    "print(\"Modified Matrix:\n",
    "\", matrix)\n"
   ]
  }
 ],
 "metadata": {},
 "nbformat": 4,
 "nbformat_minor": 5
}
