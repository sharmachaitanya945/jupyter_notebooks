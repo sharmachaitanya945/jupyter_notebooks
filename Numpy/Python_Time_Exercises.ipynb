{
 "cells": [
  {
   "cell_type": "markdown",
   "id": "51256d02",
   "metadata": {},
   "source": [
    "# Time in Python and NumPy - Learning Exercises"
   ]
  },
  {
   "cell_type": "markdown",
   "id": "83e91b46",
   "metadata": {},
   "source": [
    "\n",
    "This notebook contains exercises on **measuring time in Python and NumPy**.  \n",
    "You'll learn how to track execution time, compare performance, and optimize code.  \n",
    "Fill in the missing parts to complete the exercises.\n"
   ]
  },
  {
   "cell_type": "markdown",
   "id": "34eaddcc",
   "metadata": {},
   "source": [
    "## Measuring Execution Time with `time` Module"
   ]
  },
  {
   "cell_type": "code",
   "execution_count": null,
   "id": "a3449024",
   "metadata": {},
   "outputs": [],
   "source": [
    "\n",
    "import time\n",
    "\n",
    "def slow_function():\n",
    "    time.sleep(2)  # Simulates a slow operation\n",
    "    print(\"Function finished\")\n",
    "\n",
    "start_time = time.time()\n",
    "slow_function()\n",
    "end_time = time.time()\n",
    "\n",
    "print(\"Execution time:\", end_time - start_time, \"seconds\")\n"
   ]
  },
  {
   "cell_type": "markdown",
   "id": "d263ef6b",
   "metadata": {},
   "source": [
    "## Comparing Loop Performance"
   ]
  },
  {
   "cell_type": "code",
   "execution_count": null,
   "id": "713b7c40",
   "metadata": {},
   "outputs": [],
   "source": [
    "\n",
    "import time\n",
    "\n",
    "n = 10**6\n",
    "\n",
    "# Using a for loop\n",
    "start_time = time.time()\n",
    "sum_for = 0\n",
    "for i in range(n):\n",
    "    sum_for += i\n",
    "end_time = time.time()\n",
    "print(\"For loop execution time:\", end_time - start_time, \"seconds\")\n",
    "\n",
    "# Using sum() function\n",
    "start_time = time.time()\n",
    "sum_builtin = sum(range(n))\n",
    "end_time = time.time()\n",
    "print(\"Built-in sum() execution time:\", end_time - start_time, \"seconds\")\n"
   ]
  },
  {
   "cell_type": "markdown",
   "id": "ce24c535",
   "metadata": {},
   "source": [
    "## Measuring Execution Time with `timeit` Module"
   ]
  },
  {
   "cell_type": "code",
   "execution_count": null,
   "id": "009333d7",
   "metadata": {},
   "outputs": [],
   "source": [
    "\n",
    "import timeit\n",
    "\n",
    "# Define a test statement\n",
    "statement = \"sum(range(10**6))\"\n",
    "\n",
    "# Measure execution time\n",
    "execution_time = timeit.timeit(stmt=statement, number=10)\n",
    "print(\"Execution time using timeit:\", execution_time, \"seconds\")\n"
   ]
  },
  {
   "cell_type": "markdown",
   "id": "ec73def8",
   "metadata": {},
   "source": [
    "## NumPy Performance Optimization"
   ]
  },
  {
   "cell_type": "code",
   "execution_count": null,
   "id": "f53fc1b7",
   "metadata": {},
   "outputs": [],
   "source": [
    "\n",
    "import numpy as np\n",
    "import time\n",
    "\n",
    "n = 10**6\n",
    "\n",
    "# Using a list\n",
    "start_time = time.time()\n",
    "list_data = [i for i in range(n)]\n",
    "list_sum = sum(list_data)\n",
    "end_time = time.time()\n",
    "print(\"List sum execution time:\", end_time - start_time, \"seconds\")\n",
    "\n",
    "# Using NumPy array\n",
    "start_time = time.time()\n",
    "np_data = np.arange(n)\n",
    "np_sum = np.sum(np_data)\n",
    "end_time = time.time()\n",
    "print(\"NumPy sum execution time:\", end_time - start_time, \"seconds\")\n"
   ]
  },
  {
   "cell_type": "markdown",
   "id": "d95f425f",
   "metadata": {},
   "source": [
    "## Homework: Performance Challenge"
   ]
  },
  {
   "cell_type": "code",
   "execution_count": null,
   "id": "ab4177f4",
   "metadata": {},
   "outputs": [],
   "source": [
    "\n",
    "# Task: Compare the performance of multiplying a list vs a NumPy array\n",
    "\n",
    "import time\n",
    "import numpy as np\n",
    "\n",
    "n = 10**6\n",
    "\n",
    "# List multiplication (Fill in the missing parts)\n",
    "start_time = time.time()\n",
    "list_data = [i for i in range(n)]\n",
    "list_product = _____  # Implement multiplication operation\n",
    "end_time = time.time()\n",
    "print(\"List multiplication execution time:\", end_time - start_time, \"seconds\")\n",
    "\n",
    "# NumPy multiplication (Fill in the missing parts)\n",
    "start_time = time.time()\n",
    "np_data = np.arange(n)\n",
    "np_product = _____  # Implement multiplication operation\n",
    "end_time = time.time()\n",
    "print(\"NumPy multiplication execution time:\", end_time - start_time, \"seconds\")\n"
   ]
  }
 ],
 "metadata": {},
 "nbformat": 4,
 "nbformat_minor": 5
}
