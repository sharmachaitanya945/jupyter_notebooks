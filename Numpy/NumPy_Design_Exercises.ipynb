{
 "cells": [
  {
   "cell_type": "markdown",
   "id": "b719877c",
   "metadata": {},
   "source": [
    "# NumPy Design Principles - Learning Exercises"
   ]
  },
  {
   "cell_type": "markdown",
   "id": "759ab7f3",
   "metadata": {},
   "source": [
    "\n",
    "This notebook contains exercises on **NumPy's Design Principles**.  \n",
    "You'll learn about NumPy's vectorization, broadcasting, and memory efficiency.  \n",
    "Fill in the missing parts to complete the exercises.\n"
   ]
  },
  {
   "cell_type": "markdown",
   "id": "25034a11",
   "metadata": {},
   "source": [
    "## Vectorization and Performance"
   ]
  },
  {
   "cell_type": "code",
   "execution_count": null,
   "id": "f3df91ab",
   "metadata": {},
   "outputs": [],
   "source": [
    "\n",
    "import numpy as np\n",
    "import time\n",
    "\n",
    "# Create large arrays\n",
    "size = 1000000\n",
    "arr1 = np.random.rand(size)\n",
    "arr2 = np.random.rand(size)\n",
    "\n",
    "# Using loops (fill in the missing part)\n",
    "start_time = time.time()\n",
    "result_loop = [arr1[i] * arr2[i] for i in range(____)]\n",
    "end_time = time.time()\n",
    "print(\"Loop Execution Time:\", end_time - start_time)\n",
    "\n",
    "# Using NumPy vectorization\n",
    "start_time = time.time()\n",
    "result_vectorized = arr1 * arr2  # NumPy's optimized operation\n",
    "end_time = time.time()\n",
    "print(\"Vectorized Execution Time:\", end_time - start_time)\n"
   ]
  },
  {
   "cell_type": "markdown",
   "id": "3454f895",
   "metadata": {},
   "source": [
    "## Broadcasting Rules"
   ]
  },
  {
   "cell_type": "code",
   "execution_count": null,
   "id": "b142bd83",
   "metadata": {},
   "outputs": [],
   "source": [
    "\n",
    "# Create arrays of different shapes\n",
    "A = np.array([[1, 2, 3], [4, 5, 6]])\n",
    "B = np.array([1, 2, 3])\n",
    "\n",
    "# Apply broadcasting (fill in the missing operation)\n",
    "result = A ____ B\n",
    "\n",
    "print(\"Result after broadcasting:\n",
    "\", result)\n"
   ]
  },
  {
   "cell_type": "markdown",
   "id": "15e92dd4",
   "metadata": {},
   "source": [
    "## Memory Efficiency"
   ]
  },
  {
   "cell_type": "code",
   "execution_count": null,
   "id": "21a6f168",
   "metadata": {},
   "outputs": [],
   "source": [
    "\n",
    "# Create a list and a NumPy array with the same elements\n",
    "size = 1000000\n",
    "py_list = [i for i in range(size)]\n",
    "np_array = np.arange(size)\n",
    "\n",
    "# Check memory usage (fill in the missing part)\n",
    "import sys\n",
    "print(\"Memory used by list:\", sys.getsizeof(py_list), \"bytes\")\n",
    "print(\"Memory used by NumPy array:\", sys.getsizeof(np_array), \"bytes\")  # Fix this line if needed\n"
   ]
  },
  {
   "cell_type": "markdown",
   "id": "c19a57c4",
   "metadata": {},
   "source": [
    "## Homework: NumPy Optimization Challenge"
   ]
  },
  {
   "cell_type": "code",
   "execution_count": null,
   "id": "75bacd4a",
   "metadata": {},
   "outputs": [],
   "source": [
    "\n",
    "# Task: Create a NumPy array and a Python list with 1 million random numbers.\n",
    "# Compare the execution time of computing their sum using loops vs NumPy functions.\n",
    "\n",
    "import numpy as np\n",
    "import time\n",
    "\n",
    "size = 1000000\n",
    "\n",
    "# Step 1: Generate random numbers for both list and NumPy array\n",
    "py_list = [np.random.rand() for _ in range(size)]\n",
    "np_array = np.random.rand(size)\n",
    "\n",
    "# Step 2: Compute sum using a loop\n",
    "start_time = time.time()\n",
    "sum_loop = sum(py_list)  # Replace this with a manual loop if needed\n",
    "end_time = time.time()\n",
    "print(\"Loop Sum Execution Time:\", end_time - start_time)\n",
    "\n",
    "# Step 3: Compute sum using NumPy\n",
    "start_time = time.time()\n",
    "sum_numpy = np.sum(np_array)\n",
    "end_time = time.time()\n",
    "print(\"NumPy Sum Execution Time:\", end_time - start_time)\n"
   ]
  }
 ],
 "metadata": {},
 "nbformat": 4,
 "nbformat_minor": 5
}
