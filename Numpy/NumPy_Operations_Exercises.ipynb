{
 "cells": [
  {
   "cell_type": "markdown",
   "id": "c3cdcac8",
   "metadata": {},
   "source": [
    "# NumPy Operations - Learning Exercises"
   ]
  },
  {
   "cell_type": "markdown",
   "id": "9f2fad4b",
   "metadata": {},
   "source": [
    "\n",
    "This notebook contains exercises on **NumPy Operations**.  \n",
    "You'll practice arithmetic operations, broadcasting, and aggregation functions.  \n",
    "Fill in the missing parts to complete the exercises.\n"
   ]
  },
  {
   "cell_type": "markdown",
   "id": "5b373c36",
   "metadata": {},
   "source": [
    "## Arithmetic Operations"
   ]
  },
  {
   "cell_type": "code",
   "execution_count": null,
   "id": "8230886f",
   "metadata": {},
   "outputs": [],
   "source": [
    "\n",
    "import numpy as np\n",
    "\n",
    "# Create two sample arrays\n",
    "a = np.array([1, 2, 3, 4, 5])\n",
    "b = np.array([10, 20, 30, 40, 50])\n",
    "\n",
    "# Perform element-wise operations (fill in the missing operations)\n",
    "sum_result = a ____ b\n",
    "product_result = a ____ b\n",
    "\n",
    "print(\"Sum Result:\", sum_result)\n",
    "print(\"Product Result:\", product_result)\n"
   ]
  },
  {
   "cell_type": "markdown",
   "id": "af632fc8",
   "metadata": {},
   "source": [
    "## Broadcasting"
   ]
  },
  {
   "cell_type": "code",
   "execution_count": null,
   "id": "582b2f6b",
   "metadata": {},
   "outputs": [],
   "source": [
    "\n",
    "# Create an array\n",
    "arr = np.array([[1, 2, 3], [4, 5, 6], [7, 8, 9]])\n",
    "\n",
    "# Broadcast a scalar value (fill in the operation)\n",
    "result = arr ____ 2\n",
    "\n",
    "print(\"Broadcasting Result:\n",
    "\", result)\n"
   ]
  },
  {
   "cell_type": "markdown",
   "id": "f109aaa7",
   "metadata": {},
   "source": [
    "## Aggregation Functions"
   ]
  },
  {
   "cell_type": "code",
   "execution_count": null,
   "id": "9ea09acd",
   "metadata": {},
   "outputs": [],
   "source": [
    "\n",
    "# Create an array\n",
    "arr = np.array([3, 6, 9, 12, 15, 18, 21])\n",
    "\n",
    "# Compute sum, mean, and max (fill in the missing functions)\n",
    "sum_value = np.____(arr)\n",
    "mean_value = np.____(arr)\n",
    "max_value = np.____(arr)\n",
    "\n",
    "print(\"Sum:\", sum_value)\n",
    "print(\"Mean:\", mean_value)\n",
    "print(\"Max:\", max_value)\n"
   ]
  },
  {
   "cell_type": "markdown",
   "id": "d759a522",
   "metadata": {},
   "source": [
    "## Element-wise Operations"
   ]
  },
  {
   "cell_type": "code",
   "execution_count": null,
   "id": "588e3c3e",
   "metadata": {},
   "outputs": [],
   "source": [
    "\n",
    "# Create an array\n",
    "arr = np.array([1, 4, 9, 16, 25])\n",
    "\n",
    "# Compute square root and logarithm (fill in the missing functions)\n",
    "sqrt_result = np.____(arr)\n",
    "log_result = np.____(arr)\n",
    "\n",
    "print(\"Square Root:\n",
    "\", sqrt_result)\n",
    "print(\"Logarithm:\n",
    "\", log_result)\n"
   ]
  },
  {
   "cell_type": "markdown",
   "id": "c31efb49",
   "metadata": {},
   "source": [
    "## Homework: NumPy Operations Challenge"
   ]
  },
  {
   "cell_type": "code",
   "execution_count": null,
   "id": "1988ab4c",
   "metadata": {},
   "outputs": [],
   "source": [
    "\n",
    "# Task: Create a 4x4 matrix with values from 1 to 16.\n",
    "# Compute the row-wise and column-wise sum.\n",
    "\n",
    "import numpy as np\n",
    "\n",
    "# Step 1: Generate a 4x4 matrix\n",
    "matrix = np.arange(1, 17).reshape(4, 4)\n",
    "print(\"Original Matrix:\n",
    "\", matrix)\n",
    "\n",
    "# Step 2: Compute row-wise and column-wise sum (fill in the missing functions)\n",
    "row_sum = np.____(matrix, axis=____)\n",
    "col_sum = np.____(matrix, axis=____)\n",
    "\n",
    "print(\"Row-wise Sum:\", row_sum)\n",
    "print(\"Column-wise Sum:\", col_sum)\n"
   ]
  }
 ],
 "metadata": {},
 "nbformat": 4,
 "nbformat_minor": 5
}
