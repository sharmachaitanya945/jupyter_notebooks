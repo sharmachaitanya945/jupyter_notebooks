{
 "cells": [
  {
   "cell_type": "markdown",
   "id": "4d141428",
   "metadata": {},
   "source": [
    "# Basic File I/O in NumPy - Learning Exercises"
   ]
  },
  {
   "cell_type": "markdown",
   "id": "0ad99fcd",
   "metadata": {},
   "source": [
    "\n",
    "This notebook contains exercises on **Basic File I/O with NumPy**.  \n",
    "You'll learn how to read and write files using NumPy, including CSV and text files.  \n",
    "Fill in the missing parts to complete the exercises.\n"
   ]
  },
  {
   "cell_type": "markdown",
   "id": "f0028014",
   "metadata": {},
   "source": [
    "## Writing to a Text File"
   ]
  },
  {
   "cell_type": "code",
   "execution_count": null,
   "id": "4bbe446f",
   "metadata": {},
   "outputs": [],
   "source": [
    "\n",
    "import numpy as np\n",
    "\n",
    "# Create an array\n",
    "data = np.array([[1, 2, 3], [4, 5, 6], [7, 8, 9]])\n",
    "\n",
    "# Save to a text file (fill in the missing file name)\n",
    "np.savetxt(\"____.txt\", data, delimiter=\",\", fmt=\"%d\")\n",
    "\n",
    "print(\"Data saved to file!\")\n"
   ]
  },
  {
   "cell_type": "markdown",
   "id": "c22c5278",
   "metadata": {},
   "source": [
    "## Reading from a Text File"
   ]
  },
  {
   "cell_type": "code",
   "execution_count": null,
   "id": "6f642c88",
   "metadata": {},
   "outputs": [],
   "source": [
    "\n",
    "# Load the text file (fill in the missing file name)\n",
    "loaded_data = np.loadtxt(\"____.txt\", delimiter=\",\")\n",
    "\n",
    "print(\"Loaded Data:\n",
    "\", loaded_data)\n"
   ]
  },
  {
   "cell_type": "markdown",
   "id": "c5028b00",
   "metadata": {},
   "source": [
    "## Writing to a CSV File"
   ]
  },
  {
   "cell_type": "code",
   "execution_count": null,
   "id": "c827dd77",
   "metadata": {},
   "outputs": [],
   "source": [
    "\n",
    "# Save to CSV file\n",
    "np.savetxt(\"data.csv\", data, delimiter=\",\", fmt=\"%d\")\n",
    "\n",
    "print(\"Data saved to CSV file!\")\n"
   ]
  },
  {
   "cell_type": "markdown",
   "id": "d29031f9",
   "metadata": {},
   "source": [
    "## Reading from a CSV File"
   ]
  },
  {
   "cell_type": "code",
   "execution_count": null,
   "id": "e5691c0b",
   "metadata": {},
   "outputs": [],
   "source": [
    "\n",
    "# Load CSV file\n",
    "csv_data = np.loadtxt(\"data.csv\", delimiter=\",\")\n",
    "\n",
    "print(\"Loaded CSV Data:\n",
    "\", csv_data)\n"
   ]
  },
  {
   "cell_type": "markdown",
   "id": "8b353634",
   "metadata": {},
   "source": [
    "## Working with Structured Arrays"
   ]
  },
  {
   "cell_type": "code",
   "execution_count": null,
   "id": "c6b030db",
   "metadata": {},
   "outputs": [],
   "source": [
    "\n",
    "# Define structured data\n",
    "dtype = [('Name', 'U10'), ('Age', 'i4'), ('Score', 'f4')]\n",
    "\n",
    "students = np.array([('Alice', 22, 85.5), ('Bob', 24, 90.3), ('Charlie', 23, 78.8)], dtype=dtype)\n",
    "\n",
    "# Save structured array to file\n",
    "np.savetxt(\"students.csv\", students, delimiter=\",\", fmt=\"%s\")\n",
    "\n",
    "print(\"Structured data saved to file!\")\n"
   ]
  },
  {
   "cell_type": "markdown",
   "id": "07d14ea4",
   "metadata": {},
   "source": [
    "## Homework: File Handling Challenge"
   ]
  },
  {
   "cell_type": "code",
   "execution_count": null,
   "id": "95353943",
   "metadata": {},
   "outputs": [],
   "source": [
    "\n",
    "# Task: Create a NumPy array of random numbers and save it to a text file.\n",
    "# Then, read the file and compute the mean of the numbers.\n",
    "\n",
    "import numpy as np\n",
    "\n",
    "# Step 1: Generate an array of 100 random numbers\n",
    "random_numbers = np.random.rand(100)\n",
    "\n",
    "# Step 2: Save the array to a text file (fill in the file name)\n",
    "np.savetxt(\"____.txt\", random_numbers)\n",
    "\n",
    "# Step 3: Load the data from the file (fill in the file name)\n",
    "loaded_numbers = np.loadtxt(\"____.txt\")\n",
    "\n",
    "# Step 4: Compute and print the mean\n",
    "mean_value = np.mean(loaded_numbers)\n",
    "print(\"Mean of loaded numbers:\", mean_value)\n"
   ]
  }
 ],
 "metadata": {},
 "nbformat": 4,
 "nbformat_minor": 5
}
