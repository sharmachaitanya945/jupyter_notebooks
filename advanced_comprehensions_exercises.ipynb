{
 "cells": [
  {
   "cell_type": "code",
   "execution_count": null,
   "id": "bccf2ecc",
   "metadata": {},
   "outputs": [],
   "source": [
    "# 1️⃣ Creating a Matrix 🔢\n",
    "# Create a 3x3 matrix using list comprehension\n",
    "matrix = [[_____ for col in range(3)] for row in range(3)]\n",
    "\n",
    "print(matrix)  # Expected output: [[0, 0, 0], [0, 0, 0], [0, 0, 0]]\n"
   ]
  },
  {
   "cell_type": "code",
   "execution_count": null,
   "id": "107f67e8",
   "metadata": {},
   "outputs": [],
   "source": [
    "# 2️⃣ Filtering a Nested List 🎯\n",
    "# Remove all negative numbers from a nested list\n",
    "nested_list = [[-3, 2, -1], [5, -6, 7], [-8, 9, 10]]\n",
    "filtered_list = [[num for num in sublist if _____] for sublist in nested_list]\n",
    "\n",
    "print(filtered_list)  # Expected output: [[2], [5, 7], [9, 10]]\n"
   ]
  },
  {
   "cell_type": "code",
   "execution_count": null,
   "id": "c5bb6fa7",
   "metadata": {},
   "outputs": [],
   "source": [
    "# 3️⃣ Flattening Nested Sub-Lists 📏\n",
    "# Convert a nested list into a single flattened list\n",
    "nested_list = [[1, 2, 3], [4, 5, 6], [7, 8, 9]]\n",
    "flattened_list = [_____ for sublist in nested_list for num in sublist]\n",
    "\n",
    "print(flattened_list)  # Expected output: [1, 2, 3, 4, 5, 6, 7, 8, 9]\n"
   ]
  },
  {
   "cell_type": "code",
   "execution_count": null,
   "id": "3bfc77ff",
   "metadata": {},
   "outputs": [],
   "source": [
    "# 4️⃣ Manipulating Matrix Values 🔄\n",
    "# Multiply all elements in a 3x3 matrix by 2\n",
    "matrix = [[1, 2, 3], [4, 5, 6], [7, 8, 9]]\n",
    "doubled_matrix = [[_____ for num in row] for row in matrix]\n",
    "\n",
    "print(doubled_matrix)  # Expected output: [[2, 4, 6], [8, 10, 12], [14, 16, 18]]\n"
   ]
  }
 ],
 "metadata": {},
 "nbformat": 4,
 "nbformat_minor": 5
}
