{
 "cells": [
  {
   "cell_type": "markdown",
   "id": "bb07eb3d",
   "metadata": {},
   "source": [
    "# Recursive Functions - Learning Exercises"
   ]
  },
  {
   "cell_type": "markdown",
   "id": "a44eb807",
   "metadata": {},
   "source": [
    "\n",
    "This notebook contains exercises on Recursive Functions in Python.\n",
    "Fill in the missing parts to complete the exercises.\n"
   ]
  },
  {
   "cell_type": "markdown",
   "id": "059d7c7d",
   "metadata": {},
   "source": [
    "## What is Recursion?"
   ]
  },
  {
   "cell_type": "code",
   "execution_count": null,
   "id": "3b1a8ecf",
   "metadata": {},
   "outputs": [],
   "source": [
    "\n",
    "# A recursive function is a function that calls itself.\n",
    "# Example: A basic recursive function to count down from a given number.\n",
    "\n",
    "def countdown(n):\n",
    "    if n <= 0:\n",
    "        print(\"Done!\")\n",
    "        return\n",
    "    else:\n",
    "        print(n)\n",
    "        ...  # <-- Fill this (Recursive Call)\n",
    "\n",
    "countdown(5)  # Expected Output: 5 4 3 2 1 Done!\n"
   ]
  },
  {
   "cell_type": "markdown",
   "id": "6896b4dd",
   "metadata": {},
   "source": [
    "## Factorial using Recursion"
   ]
  },
  {
   "cell_type": "code",
   "execution_count": null,
   "id": "d495fbb7",
   "metadata": {},
   "outputs": [],
   "source": [
    "\n",
    "# Write a recursive function to calculate the factorial of a number.\n",
    "\n",
    "def factorial(n):\n",
    "    if n == 0 or n == 1:\n",
    "        return 1\n",
    "    return ...  # <-- Fill this (Recursive Call)\n",
    "\n",
    "print(factorial(5))  # Expected Output: 120\n"
   ]
  },
  {
   "cell_type": "markdown",
   "id": "286d5b55",
   "metadata": {},
   "source": [
    "## Fibonacci Sequence using Recursion"
   ]
  },
  {
   "cell_type": "code",
   "execution_count": null,
   "id": "8aa65e2d",
   "metadata": {},
   "outputs": [],
   "source": [
    "\n",
    "# Write a recursive function to find the nth Fibonacci number.\n",
    "\n",
    "def fibonacci(n):\n",
    "    if n <= 0:\n",
    "        return 0\n",
    "    elif n == 1:\n",
    "        return 1\n",
    "    return ...  # <-- Fill this (Recursive Calls)\n",
    "\n",
    "print(fibonacci(6))  # Expected Output: 8\n"
   ]
  },
  {
   "cell_type": "markdown",
   "id": "d9a90e63",
   "metadata": {},
   "source": [
    "## Sum of Digits using Recursion"
   ]
  },
  {
   "cell_type": "code",
   "execution_count": null,
   "id": "c39882bb",
   "metadata": {},
   "outputs": [],
   "source": [
    "\n",
    "# Write a recursive function to find the sum of digits of a given number.\n",
    "\n",
    "def sum_of_digits(n):\n",
    "    if n == 0:\n",
    "        return 0\n",
    "    return ...  # <-- Fill this (Recursive Call)\n",
    "\n",
    "print(sum_of_digits(1234))  # Expected Output: 10\n"
   ]
  },
  {
   "cell_type": "markdown",
   "id": "7dcc6684",
   "metadata": {},
   "source": [
    "## Reverse a String using Recursion"
   ]
  },
  {
   "cell_type": "code",
   "execution_count": null,
   "id": "a3e8fa4d",
   "metadata": {},
   "outputs": [],
   "source": [
    "\n",
    "# Write a recursive function to reverse a given string.\n",
    "\n",
    "def reverse_string(s):\n",
    "    if len(s) == 0:\n",
    "        return s\n",
    "    return ...  # <-- Fill this (Recursive Call)\n",
    "\n",
    "print(reverse_string(\"hello\"))  # Expected Output: \"olleh\"\n"
   ]
  },
  {
   "cell_type": "markdown",
   "id": "d025c69c",
   "metadata": {},
   "source": [
    "## Homework: Custom Recursive Function"
   ]
  },
  {
   "cell_type": "code",
   "execution_count": null,
   "id": "d27b0f58",
   "metadata": {},
   "outputs": [],
   "source": [
    "\n",
    "# Task: Write a recursive function to check if a number is a palindrome.\n",
    "# A number is a palindrome if it remains the same when reversed.\n",
    "\n",
    "def is_palindrome(n):\n",
    "    # Convert number to string and use recursion\n",
    "    ...  # <-- Fill this (Recursive Function Logic)\n",
    "\n",
    "# Test Cases\n",
    "print(is_palindrome(121))  # Expected Output: True\n",
    "print(is_palindrome(123))  # Expected Output: False\n"
   ]
  }
 ],
 "metadata": {},
 "nbformat": 4,
 "nbformat_minor": 5
}