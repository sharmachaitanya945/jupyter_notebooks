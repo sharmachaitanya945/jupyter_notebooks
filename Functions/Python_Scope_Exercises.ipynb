{
 "cells": [
  {
   "cell_type": "markdown",
   "id": "64dc9caa",
   "metadata": {},
   "source": [
    "# Scope in Python - Learning Exercises"
   ]
  },
  {
   "cell_type": "markdown",
   "id": "a9177542",
   "metadata": {},
   "source": [
    "\n",
    "This notebook contains exercises on **Scope in Python**.\n",
    "Scope defines where a variable can be accessed inside a program.\n",
    "Fill in the missing parts to complete the exercises.\n"
   ]
  },
  {
   "cell_type": "markdown",
   "id": "b30f983b",
   "metadata": {},
   "source": [
    "## Understanding LEGB Rule"
   ]
  },
  {
   "cell_type": "code",
   "execution_count": null,
   "id": "eb95e46a",
   "metadata": {},
   "outputs": [],
   "source": [
    "\n",
    "# LEGB: Local, Enclosing, Global, Built-in\n",
    "\n",
    "x = \"global\"\n",
    "\n",
    "def outer():\n",
    "    x = \"enclosing\"\n",
    "    \n",
    "    def inner():\n",
    "        x = \"local\"\n",
    "        print(x)  # What will this print?\n",
    "    \n",
    "    inner()\n",
    "    print(x)  # What will this print?\n",
    "\n",
    "outer()\n",
    "print(x)  # What will this print?\n"
   ]
  },
  {
   "cell_type": "markdown",
   "id": "1757cb74",
   "metadata": {},
   "source": [
    "## Global vs Local Variables"
   ]
  },
  {
   "cell_type": "code",
   "execution_count": null,
   "id": "219f482e",
   "metadata": {},
   "outputs": [],
   "source": [
    "\n",
    "# Global variable\n",
    "x = 10  \n",
    "\n",
    "def modify_x():\n",
    "    x = 20  # This is a local variable\n",
    "    print(\"Inside function:\", x)\n",
    "\n",
    "modify_x()\n",
    "print(\"Outside function:\", x)  # What will this print?\n"
   ]
  },
  {
   "cell_type": "markdown",
   "id": "859e5e42",
   "metadata": {},
   "source": [
    "## Using `global` Keyword"
   ]
  },
  {
   "cell_type": "code",
   "execution_count": null,
   "id": "d49b6831",
   "metadata": {},
   "outputs": [],
   "source": [
    "\n",
    "x = 10\n",
    "\n",
    "def change_global_x():\n",
    "    global x  # Modify the global variable\n",
    "    x = 20\n",
    "\n",
    "change_global_x()\n",
    "print(x)  # What will this print?\n"
   ]
  },
  {
   "cell_type": "markdown",
   "id": "d225ac82",
   "metadata": {},
   "source": [
    "## Enclosing Scope (Using `nonlocal`)"
   ]
  },
  {
   "cell_type": "code",
   "execution_count": null,
   "id": "cc2f0b30",
   "metadata": {},
   "outputs": [],
   "source": [
    "\n",
    "def outer():\n",
    "    x = \"enclosing\"\n",
    "    \n",
    "    def inner():\n",
    "        nonlocal x  # Modify the enclosing scope variable\n",
    "        x = \"modified enclosing\"\n",
    "        print(\"Inside inner:\", x)\n",
    "\n",
    "    inner()\n",
    "    print(\"Inside outer:\", x)\n",
    "\n",
    "outer()\n"
   ]
  },
  {
   "cell_type": "markdown",
   "id": "c5be0b9b",
   "metadata": {},
   "source": [
    "## Variable Shadowing"
   ]
  },
  {
   "cell_type": "code",
   "execution_count": null,
   "id": "d047ef0f",
   "metadata": {},
   "outputs": [],
   "source": [
    "\n",
    "x = 5\n",
    "\n",
    "def shadow():\n",
    "    x = 10  # This 'x' shadows the global 'x'\n",
    "    print(\"Inside function:\", x)\n",
    "\n",
    "shadow()\n",
    "print(\"Outside function:\", x)  # What will this print?\n"
   ]
  },
  {
   "cell_type": "markdown",
   "id": "5af2b9f2",
   "metadata": {},
   "source": [
    "## Homework: Scope Challenge"
   ]
  },
  {
   "cell_type": "code",
   "execution_count": null,
   "id": "af6987a7",
   "metadata": {},
   "outputs": [],
   "source": [
    "\n",
    "# Task: Predict the output of this function before running it.\n",
    "\n",
    "x = \"global\"\n",
    "\n",
    "def test():\n",
    "    x = \"local\"\n",
    "    \n",
    "    def nested():\n",
    "        global x\n",
    "        x = \"modified global\"\n",
    "    \n",
    "    nested()\n",
    "    print(\"Inside test:\", x)\n",
    "\n",
    "test()\n",
    "print(\"Outside test:\", x)  # What will this print?\n"
   ]
  }
 ],
 "metadata": {},
 "nbformat": 4,
 "nbformat_minor": 5
}