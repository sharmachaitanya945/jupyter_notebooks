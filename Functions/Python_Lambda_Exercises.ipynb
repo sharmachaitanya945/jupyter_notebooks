{
 "cells": [
  {
   "cell_type": "markdown",
   "id": "27da9a5d",
   "metadata": {},
   "source": [
    "# Lambda Functions - Learning Exercises"
   ]
  },
  {
   "cell_type": "markdown",
   "id": "576d069a",
   "metadata": {},
   "source": [
    "\n",
    "This notebook contains exercises on Lambda Functions in Python.\n",
    "Fill in the missing parts to complete the exercises.\n"
   ]
  },
  {
   "cell_type": "markdown",
   "id": "3798d498",
   "metadata": {},
   "source": [
    "## What is a Lambda Function?"
   ]
  },
  {
   "cell_type": "code",
   "execution_count": null,
   "id": "7da5d5d8",
   "metadata": {},
   "outputs": [],
   "source": [
    "\n",
    "# A lambda function is a small anonymous function.\n",
    "# It can take any number of arguments but has only one expression.\n",
    "\n",
    "# Example: A lambda function that adds 10 to a given number\n",
    "\n",
    "add_10 = lambda x: ...  # <-- Fill this\n",
    "print(add_10(5))  # Expected Output: 15\n"
   ]
  },
  {
   "cell_type": "markdown",
   "id": "a7143282",
   "metadata": {},
   "source": [
    "## Lambda with Multiple Arguments"
   ]
  },
  {
   "cell_type": "code",
   "execution_count": null,
   "id": "f2610da1",
   "metadata": {},
   "outputs": [],
   "source": [
    "\n",
    "# Create a lambda function that multiplies two numbers.\n",
    "\n",
    "multiply = lambda a, b: ...  # <-- Fill this\n",
    "print(multiply(4, 3))  # Expected Output: 12\n"
   ]
  },
  {
   "cell_type": "markdown",
   "id": "1ac1ea56",
   "metadata": {},
   "source": [
    "## Using Lambda in Higher-Order Functions"
   ]
  },
  {
   "cell_type": "code",
   "execution_count": null,
   "id": "f3de38d7",
   "metadata": {},
   "outputs": [],
   "source": [
    "\n",
    "# Use a lambda function inside map() to square each element in a list.\n",
    "\n",
    "numbers = [1, 2, 3, 4, 5]\n",
    "squared_numbers = list(map(lambda x: ..., numbers))  # <-- Fill this\n",
    "print(squared_numbers)  # Expected Output: [1, 4, 9, 16, 25]\n"
   ]
  },
  {
   "cell_type": "markdown",
   "id": "4b64bc9b",
   "metadata": {},
   "source": [
    "## Filtering with Lambda and filter()"
   ]
  },
  {
   "cell_type": "code",
   "execution_count": null,
   "id": "667f6b53",
   "metadata": {},
   "outputs": [],
   "source": [
    "\n",
    "# Use a lambda function inside filter() to get only even numbers from a list.\n",
    "\n",
    "numbers = [10, 15, 20, 25, 30]\n",
    "even_numbers = list(filter(lambda x: ..., numbers))  # <-- Fill this\n",
    "print(even_numbers)  # Expected Output: [10, 20, 30]\n"
   ]
  },
  {
   "cell_type": "markdown",
   "id": "9bcddd95",
   "metadata": {},
   "source": [
    "## Sorting with Lambda"
   ]
  },
  {
   "cell_type": "code",
   "execution_count": null,
   "id": "38211199",
   "metadata": {},
   "outputs": [],
   "source": [
    "\n",
    "# Sort a list of tuples based on the second element using a lambda function.\n",
    "\n",
    "pairs = [(1, 3), (2, 2), (4, 1)]\n",
    "sorted_pairs = sorted(pairs, key=lambda x: ...)  # <-- Fill this\n",
    "print(sorted_pairs)  # Expected Output: [(4, 1), (2, 2), (1, 3)]\n"
   ]
  },
  {
   "cell_type": "markdown",
   "id": "56bf76b5",
   "metadata": {},
   "source": [
    "## Homework: Custom Lambda Functions"
   ]
  },
  {
   "cell_type": "code",
   "execution_count": null,
   "id": "9f80abc3",
   "metadata": {},
   "outputs": [],
   "source": [
    "\n",
    "# Task: Write a lambda function that checks if a given string is a palindrome.\n",
    "# A palindrome reads the same forward and backward (e.g., 'radar', 'level').\n",
    "\n",
    "is_palindrome = lambda s: ...  # <-- Fill this\n",
    "\n",
    "# Test Cases\n",
    "print(is_palindrome(\"radar\"))  # Expected Output: True\n",
    "print(is_palindrome(\"hello\"))  # Expected Output: False\n"
   ]
  }
 ],
 "metadata": {},
 "nbformat": 4,
 "nbformat_minor": 5
}