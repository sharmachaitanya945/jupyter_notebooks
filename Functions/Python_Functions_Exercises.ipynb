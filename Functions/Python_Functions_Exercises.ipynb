{
 "cells": [
  {
   "cell_type": "markdown",
   "id": "dbd407d7",
   "metadata": {},
   "source": [
    "# Python Functions - Learning Exercises"
   ]
  },
  {
   "cell_type": "markdown",
   "id": "2116d4a5",
   "metadata": {},
   "source": [
    "\n",
    "This notebook contains exercises based on Python functions. Each section corresponds to a topic in the syllabus and includes explanations, examples, and hands-on coding tasks.\n",
    "Fill in the missing parts to complete the exercises.\n"
   ]
  },
  {
   "cell_type": "markdown",
   "id": "3d42d509",
   "metadata": {},
   "source": [
    "## What is a Function?"
   ]
  },
  {
   "cell_type": "code",
   "execution_count": null,
   "id": "cb01882f",
   "metadata": {},
   "outputs": [],
   "source": [
    "\n",
    "# A function is a reusable block of code designed to perform a specific task.\n",
    "# Example: A simple function that prints a message.\n",
    "\n",
    "def greet():\n",
    "    print(\"Hello, welcome to Python functions!\")\n",
    "\n",
    "# Call the function\n",
    "greet()\n"
   ]
  },
  {
   "cell_type": "markdown",
   "id": "f4afa7ae",
   "metadata": {},
   "source": [
    "## How do Functions Work?"
   ]
  },
  {
   "cell_type": "code",
   "execution_count": null,
   "id": "107bfc26",
   "metadata": {},
   "outputs": [],
   "source": [
    "\n",
    "# Functions take inputs (parameters), perform operations, and return outputs.\n",
    "# Complete the function below to return the sum of two numbers.\n",
    "\n",
    "def add_numbers(a, b):\n",
    "    # Return the sum of a and b\n",
    "    return ...  # <-- Fill this line\n",
    "\n",
    "# Test the function\n",
    "print(add_numbers(5, 10))  # Expected Output: 15\n"
   ]
  },
  {
   "cell_type": "markdown",
   "id": "3f0d8669",
   "metadata": {},
   "source": [
    "## Built-in Functions"
   ]
  },
  {
   "cell_type": "code",
   "execution_count": null,
   "id": "9d3832a9",
   "metadata": {},
   "outputs": [],
   "source": [
    "\n",
    "# Python has many built-in functions like len(), type(), and print().\n",
    "# Experiment with them below.\n",
    "\n",
    "my_list = [10, 20, 30, 40]\n",
    "\n",
    "# Print the length of the list\n",
    "print(...)  # <-- Fill this\n",
    "\n",
    "# Print the type of my_list\n",
    "print(...)\n"
   ]
  },
  {
   "cell_type": "markdown",
   "id": "a9f75b94",
   "metadata": {},
   "source": [
    "## User-Defined Functions"
   ]
  },
  {
   "cell_type": "code",
   "execution_count": null,
   "id": "e14fd1cd",
   "metadata": {},
   "outputs": [],
   "source": [
    "\n",
    "# Define a function that returns the square of a number.\n",
    "\n",
    "def square(num):\n",
    "    return ...  # <-- Complete this\n",
    "\n",
    "# Test the function\n",
    "print(square(4))  # Expected Output: 16\n"
   ]
  },
  {
   "cell_type": "markdown",
   "id": "f470470a",
   "metadata": {},
   "source": [
    "## Passing Parameters"
   ]
  },
  {
   "cell_type": "code",
   "execution_count": null,
   "id": "443aab14",
   "metadata": {},
   "outputs": [],
   "source": [
    "\n",
    "# Define a function that takes a name as input and prints a greeting.\n",
    "\n",
    "def greet_user(name):\n",
    "    print(...)  # <-- Complete this\n",
    "\n",
    "# Call the function with a name\n",
    "greet_user(\"Alice\")\n"
   ]
  },
  {
   "cell_type": "markdown",
   "id": "06844be7",
   "metadata": {},
   "source": [
    "## Default Arguments"
   ]
  },
  {
   "cell_type": "code",
   "execution_count": null,
   "id": "46cc1c4c",
   "metadata": {},
   "outputs": [],
   "source": [
    "\n",
    "# Define a function with a default parameter value\n",
    "\n",
    "def power(base, exponent=2):\n",
    "    return base ** exponent\n",
    "\n",
    "# Call the function with and without the exponent argument\n",
    "print(power(3))      # Expected Output: 9\n",
    "print(power(3, 3))   # Expected Output: 27\n"
   ]
  },
  {
   "cell_type": "markdown",
   "id": "aff93f96",
   "metadata": {},
   "source": [
    "## Unpacking List-likes with *args"
   ]
  },
  {
   "cell_type": "code",
   "execution_count": null,
   "id": "c88f11ca",
   "metadata": {},
   "outputs": [],
   "source": [
    "\n",
    "# Define a function that sums an arbitrary number of arguments.\n",
    "\n",
    "def sum_all(...):  # <-- Fill the parameter with *args\n",
    "    return sum(...)  # <-- Complete this\n",
    "\n",
    "# Test the function\n",
    "print(sum_all(1, 2, 3, 4, 5))  # Expected Output: 15\n"
   ]
  },
  {
   "cell_type": "markdown",
   "id": "e090f1ad",
   "metadata": {},
   "source": [
    "## Homework: Function Design Challenge"
   ]
  },
  {
   "cell_type": "code",
   "execution_count": null,
   "id": "8e23c36f",
   "metadata": {},
   "outputs": [],
   "source": [
    "\n",
    "# Task: Write a function that creates an N x N matrix of a given alphabet letter.\n",
    "# The function should take the letter and the size (N) as inputs.\n",
    "# It should return a matrix where the letter is printed in a pattern.\n",
    "\n",
    "# Example input: create_matrix('A', 5)\n",
    "# Expected output:\n",
    "# ['A', 'A', 'A', 'A', 'A']\n",
    "# ['A', ' ', ' ', ' ', 'A']\n",
    "# ['A', ' ', 'A', ' ', 'A']\n",
    "# ['A', ' ', ' ', ' ', 'A']\n",
    "# ['A', 'A', 'A', 'A', 'A']\n",
    "\n",
    "def create_matrix(letter, n):\n",
    "    # Implement this function\n",
    "    pass  # <-- Replace with actual code\n",
    "\n",
    "# Test the function\n",
    "print(create_matrix('A', 5))\n"
   ]
  }
 ],
 "metadata": {},
 "nbformat": 4,
 "nbformat_minor": 5
}