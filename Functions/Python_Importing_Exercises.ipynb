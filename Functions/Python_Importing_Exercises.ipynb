{
 "cells": [
  {
   "cell_type": "markdown",
   "id": "b155f407",
   "metadata": {},
   "source": [
    "# Importing Modules and Packages - Learning Exercises"
   ]
  },
  {
   "cell_type": "markdown",
   "id": "b1c8821b",
   "metadata": {},
   "source": [
    "\n",
    "This notebook contains exercises on importing modules and packages in Python.\n",
    "Fill in the missing parts to complete the exercises.\n"
   ]
  },
  {
   "cell_type": "markdown",
   "id": "c742d845",
   "metadata": {},
   "source": [
    "## What is a Module?"
   ]
  },
  {
   "cell_type": "code",
   "execution_count": null,
   "id": "4783d0ec",
   "metadata": {},
   "outputs": [],
   "source": [
    "\n",
    "# A module is a file containing Python definitions and statements.\n",
    "# Example: Importing the math module and using its functions.\n",
    "\n",
    "import math\n",
    "\n",
    "# Compute the square root of 16\n",
    "result = math.sqrt(...)  # <-- Fill this\n",
    "print(result)  # Expected Output: 4.0\n"
   ]
  },
  {
   "cell_type": "markdown",
   "id": "2fefdd0a",
   "metadata": {},
   "source": [
    "## Importing a Module"
   ]
  },
  {
   "cell_type": "code",
   "execution_count": null,
   "id": "eebe60b7",
   "metadata": {},
   "outputs": [],
   "source": [
    "\n",
    "# Import the random module and use randint to generate a number between 1 and 10.\n",
    "\n",
    "import random\n",
    "\n",
    "random_number = random.randint(...)  # <-- Fill this\n",
    "print(random_number)\n"
   ]
  },
  {
   "cell_type": "markdown",
   "id": "fa4341b3",
   "metadata": {},
   "source": [
    "## Importing Specific Functions"
   ]
  },
  {
   "cell_type": "code",
   "execution_count": null,
   "id": "3eb5973c",
   "metadata": {},
   "outputs": [],
   "source": [
    "\n",
    "# Import only the choice function from the random module and use it to select a random element from a list.\n",
    "\n",
    "from random import choice\n",
    "\n",
    "items = ['apple', 'banana', 'cherry']\n",
    "selected_item = choice(...)  # <-- Fill this\n",
    "print(selected_item)\n"
   ]
  },
  {
   "cell_type": "markdown",
   "id": "464066d9",
   "metadata": {},
   "source": [
    "## Importing with Aliases"
   ]
  },
  {
   "cell_type": "code",
   "execution_count": null,
   "id": "577994da",
   "metadata": {},
   "outputs": [],
   "source": [
    "\n",
    "# Use an alias for the numpy module and create a 2x2 array.\n",
    "\n",
    "import numpy as np\n",
    "\n",
    "array = np.array([[1, 2], [3, 4]])\n",
    "print(array)\n"
   ]
  },
  {
   "cell_type": "markdown",
   "id": "6a1534a3",
   "metadata": {},
   "source": [
    "## Writing and Importing Your Own Module"
   ]
  },
  {
   "cell_type": "code",
   "execution_count": null,
   "id": "f265f8f0",
   "metadata": {},
   "outputs": [],
   "source": [
    "\n",
    "# Create a Python file named mymodule.py with the following content:\n",
    "# def greet(name):\n",
    "#     return f\"Hello, {name}!\"\n",
    "\n",
    "# Then import and use it here:\n",
    "\n",
    "import mymodule\n",
    "\n",
    "message = mymodule.greet(\"Alice\")\n",
    "print(message)  # Expected Output: Hello, Alice!\n"
   ]
  },
  {
   "cell_type": "markdown",
   "id": "17e2621f",
   "metadata": {},
   "source": [
    "## Importing Everything with *"
   ]
  },
  {
   "cell_type": "code",
   "execution_count": null,
   "id": "0d3110d5",
   "metadata": {},
   "outputs": [],
   "source": [
    "\n",
    "# Import all functions from the math module and use ceil and floor.\n",
    "\n",
    "from math import *\n",
    "\n",
    "print(ceil(4.3))   # Expected Output: 5\n",
    "print(floor(4.7))  # Expected Output: 4\n"
   ]
  },
  {
   "cell_type": "markdown",
   "id": "ea064669",
   "metadata": {},
   "source": [
    "## Homework: Create a Custom Module"
   ]
  },
  {
   "cell_type": "code",
   "execution_count": null,
   "id": "a562e0a4",
   "metadata": {},
   "outputs": [],
   "source": [
    "\n",
    "# Task: Write a Python module named `calculator.py` that includes basic math functions:\n",
    "# add(a, b), subtract(a, b), multiply(a, b), and divide(a, b).\n",
    "\n",
    "# Then, import it and use it to perform operations:\n",
    "\n",
    "import calculator\n",
    "\n",
    "print(calculator.add(5, 3))  # Expected Output: 8\n",
    "print(calculator.multiply(4, 2))  # Expected Output: 8\n"
   ]
  }
 ],
 "metadata": {},
 "nbformat": 4,
 "nbformat_minor": 5
}