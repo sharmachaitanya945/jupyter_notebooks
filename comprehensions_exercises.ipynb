{
 "cells": [
  {
   "cell_type": "code",
   "execution_count": null,
   "id": "2ac6e18b",
   "metadata": {},
   "outputs": [],
   "source": [
    "# 1️⃣ List Comprehension - Squares of Numbers 🔢\n",
    "numbers = [1, 2, 3, 4, 5]\n",
    "squares = [_____ for num in numbers]  # Fill in to get squares of numbers\n",
    "\n",
    "print(squares)  # Expected output: [1, 4, 9, 16, 25]\n"
   ]
  },
  {
   "cell_type": "code",
   "execution_count": null,
   "id": "d2d1e2d5",
   "metadata": {},
   "outputs": [],
   "source": [
    "# 2️⃣ List Comprehension - Even Numbers 🔄\n",
    "nums = list(range(1, 21))\n",
    "evens = [_____ for num in nums if _____]  # Extract only even numbers\n",
    "\n",
    "print(evens)  # Expected output: [2, 4, 6, 8, 10, 12, 14, 16, 18, 20]\n"
   ]
  },
  {
   "cell_type": "code",
   "execution_count": null,
   "id": "b1be0b4e",
   "metadata": {},
   "outputs": [],
   "source": [
    "# 3️⃣ Dictionary Comprehension - Square Mapping 📖\n",
    "numbers = [1, 2, 3, 4, 5]\n",
    "square_dict = {num: _____ for num in numbers}  # Fill in to create key-value pairs\n",
    "\n",
    "print(square_dict)  # Expected output: {1: 1, 2: 4, 3: 9, 4: 16, 5: 25}\n"
   ]
  },
  {
   "cell_type": "code",
   "execution_count": null,
   "id": "d3068c92",
   "metadata": {},
   "outputs": [],
   "source": [
    "# 4️⃣ List Comprehension - Uppercase Strings 🔠\n",
    "words = [\"apple\", \"banana\", \"cherry\"]\n",
    "uppercase_words = [_____ for word in words]  # Convert all words to uppercase\n",
    "\n",
    "print(uppercase_words)  # Expected output: ['APPLE', 'BANANA', 'CHERRY']\n"
   ]
  },
  {
   "cell_type": "code",
   "execution_count": null,
   "id": "51585c01",
   "metadata": {},
   "outputs": [],
   "source": [
    "# 5️⃣ Dictionary Comprehension - Length Mapping 📏\n",
    "words = [\"Python\", \"Java\", \"C++\", \"JavaScript\"]\n",
    "length_dict = {word: _____ for word in words}  # Map words to their lengths\n",
    "\n",
    "print(length_dict)  # Expected output: {'Python': 6, 'Java': 4, 'C++': 3, 'JavaScript': 10}\n"
   ]
  },
  {
   "cell_type": "code",
   "execution_count": null,
   "id": "69c5f74f",
   "metadata": {},
   "outputs": [],
   "source": [
    "# 6️⃣ Nested List Comprehension - Multiplication Table 🔢\n",
    "multiplication_table = [[_____ for j in range(1, 11)] for i in range(1, 6)]  # Fill in\n",
    "\n",
    "for row in multiplication_table:\n",
    "    print(row)\n"
   ]
  }
 ],
 "metadata": {},
 "nbformat": 4,
 "nbformat_minor": 5
}
