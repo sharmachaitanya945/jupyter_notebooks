{
 "cells": [
  {
   "cell_type": "code",
   "execution_count": null,
   "id": "f54aa9d9",
   "metadata": {},
   "outputs": [],
   "source": [
    "# 1️⃣ Creating a Matrix 🔢\n",
    "# Create a 3x3 matrix using nested loops\n",
    "\n",
    "rows, cols = 3, 3\n",
    "matrix = []\n",
    "\n",
    "for i in range(rows):\n",
    "    row = []\n",
    "    for j in range(cols):\n",
    "        row.append(_____)  # Fill in the value (e.g., 0)\n",
    "    matrix.append(row)\n",
    "\n",
    "print(matrix)  # Expected output: [[0, 0, 0], [0, 0, 0], [0, 0, 0]]\n"
   ]
  },
  {
   "cell_type": "code",
   "execution_count": null,
   "id": "e7ee045d",
   "metadata": {},
   "outputs": [],
   "source": [
    "# 2️⃣ Filtering a Nested List 🎯\n",
    "# Remove all negative numbers from a nested list using loops\n",
    "\n",
    "nested_list = [[-3, 2, -1], [5, -6, 7], [-8, 9, 10]]\n",
    "filtered_list = []\n",
    "\n",
    "for sublist in nested_list:\n",
    "    new_sublist = []\n",
    "    for num in sublist:\n",
    "        if _____:  # Condition to filter out negative numbers\n",
    "            new_sublist.append(num)\n",
    "    filtered_list.append(new_sublist)\n",
    "\n",
    "print(filtered_list)  # Expected output: [[2], [5, 7], [9, 10]]\n"
   ]
  },
  {
   "cell_type": "code",
   "execution_count": null,
   "id": "f0e1547e",
   "metadata": {},
   "outputs": [],
   "source": [
    "# 3️⃣ Flattening Nested Sub-Lists 📏\n",
    "# Convert a nested list into a single flattened list using loops\n",
    "\n",
    "nested_list = [[1, 2, 3], [4, 5, 6], [7, 8, 9]]\n",
    "flattened_list = []\n",
    "\n",
    "for sublist in nested_list:\n",
    "    for num in sublist:\n",
    "        flattened_list.append(_____)\n",
    "\n",
    "print(flattened_list)  # Expected output: [1, 2, 3, 4, 5, 6, 7, 8, 9]\n"
   ]
  },
  {
   "cell_type": "code",
   "execution_count": null,
   "id": "5cf12dfe",
   "metadata": {},
   "outputs": [],
   "source": [
    "# 4️⃣ Manipulating Matrix Values 🔄\n",
    "# Multiply all elements in a 3x3 matrix by 2 using loops\n",
    "\n",
    "matrix = [[1, 2, 3], [4, 5, 6], [7, 8, 9]]\n",
    "doubled_matrix = []\n",
    "\n",
    "for row in matrix:\n",
    "    new_row = []\n",
    "    for num in row:\n",
    "        new_row.append(_____)  # Multiply each element by 2\n",
    "    doubled_matrix.append(new_row)\n",
    "\n",
    "print(doubled_matrix)  # Expected output: [[2, 4, 6], [8, 10, 12], [14, 16, 18]]\n"
   ]
  },
  {
   "cell_type": "code",
   "execution_count": null,
   "id": "eb8ded7e",
   "metadata": {},
   "outputs": [],
   "source": [
    "# 5️⃣ Homework: Create an Alphabet Using an N x N Matrix 🏠📚\n",
    "# Task: Write a function to generate an uppercase letter using '*' \n",
    "# in an n x n matrix (e.g., letter 'A' with a height of n).\n",
    "\n",
    "def create_alphabet(n):\n",
    "    # Implement the function using loops\n",
    "    pass\n",
    "\n",
    "# Test cases:\n",
    "# create_alphabet(5) should print an 'A' pattern using '*'\n",
    "\n",
    "# Example Output for 'A':\n",
    "#   *  \n",
    "#  * *\n",
    "# *****  \n",
    "# *   *\n",
    "# *   *\n",
    "\n",
    "# Write test cases below:\n",
    "# assert create_alphabet(5) == expected_output\n"
   ]
  }
 ],
 "metadata": {},
 "nbformat": 4,
 "nbformat_minor": 5
}
