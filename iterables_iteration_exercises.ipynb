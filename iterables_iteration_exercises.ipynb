{
 "cells": [
  {
   "cell_type": "code",
   "execution_count": null,
   "id": "2434a3ba",
   "metadata": {},
   "outputs": [],
   "source": [
    "# 1️⃣ Iterating Through a List 📝\n",
    "fruits = [\"apple\", \"banana\", \"cherry\", \"date\"]\n",
    "\n",
    "for fruit in _____:  # Fill in the list variable\n",
    "    print(fruit)\n"
   ]
  },
  {
   "cell_type": "code",
   "execution_count": null,
   "id": "3d0e5857",
   "metadata": {},
   "outputs": [],
   "source": [
    "# 2️⃣ Using Iterators 🔄\n",
    "numbers = iter([10, 20, 30, 40])  # Convert list to iterator\n",
    "\n",
    "print(next(numbers))  # Output first element\n",
    "print(_____)  # Get the next element\n",
    "print(next(numbers))  # Output third element\n"
   ]
  },
  {
   "cell_type": "code",
   "execution_count": null,
   "id": "0c0f7ea9",
   "metadata": {},
   "outputs": [],
   "source": [
    "# 3️⃣ Working with Sets 🔢\n",
    "unique_numbers = {1, 2, 3, 4, 5}\n",
    "\n",
    "for num in _____:  # Iterate through the set\n",
    "    print(num)\n"
   ]
  },
  {
   "cell_type": "code",
   "execution_count": null,
   "id": "637fea5e",
   "metadata": {},
   "outputs": [],
   "source": [
    "# 4️⃣ String Iteration 🔠\n",
    "word = \"Python\"\n",
    "\n",
    "for char in _____:  # Iterate through the string\n",
    "    print(char)\n"
   ]
  },
  {
   "cell_type": "code",
   "execution_count": null,
   "id": "3979bd7e",
   "metadata": {},
   "outputs": [],
   "source": [
    "# 5️⃣ Tuple Iteration 🎭\n",
    "actors = (\"Leonardo\", \"Brad\", \"Tom\")\n",
    "\n",
    "for actor in _____:  # Iterate through the tuple\n",
    "    print(actor)\n"
   ]
  },
  {
   "cell_type": "code",
   "execution_count": null,
   "id": "df89eec6",
   "metadata": {},
   "outputs": [],
   "source": [
    "# 6️⃣ Dictionary Iteration 📖\n",
    "student_scores = {\"Alice\": 85, \"Bob\": 92, \"Charlie\": 78}\n",
    "\n",
    "for name, score in _____:  # Iterate through dictionary items\n",
    "    print(f\"{name} scored {score}\")\n"
   ]
  },
  {
   "cell_type": "code",
   "execution_count": null,
   "id": "5bdbc0b4",
   "metadata": {},
   "outputs": [],
   "source": [
    "# 7️⃣ Using Ranges 🔢\n",
    "for num in range(_____):  # Fill in a range (e.g., 1 to 10)\n",
    "    print(num)\n"
   ]
  },
  {
   "cell_type": "code",
   "execution_count": null,
   "id": "5b036bb0",
   "metadata": {},
   "outputs": [],
   "source": [
    "# 8️⃣ Get Iteration Number with Enumerate 🔢🔍\n",
    "languages = [\"Python\", \"Java\", \"C++\", \"JavaScript\"]\n",
    "\n",
    "for index, language in _____:  # Use enumerate to get index and value\n",
    "    print(f\"{index}: {language}\")\n"
   ]
  },
  {
   "cell_type": "code",
   "execution_count": null,
   "id": "87120fc0",
   "metadata": {},
   "outputs": [],
   "source": [
    "# 9️⃣ Nested Loops 🎲\n",
    "for i in range(1, 4):\n",
    "    for j in range(_____):  # Complete the inner loop range\n",
    "        print(f\"i={i}, j={j}\")\n"
   ]
  }
 ],
 "metadata": {},
 "nbformat": 4,
 "nbformat_minor": 5
}
